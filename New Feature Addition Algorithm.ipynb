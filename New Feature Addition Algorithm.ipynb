{
 "cells": [
  {
   "cell_type": "markdown",
   "metadata": {},
   "source": [
    "Добавление нового признака:\n",
    "- Составить выборку bag-of-words\n",
    "- Составить классификаторы для каждого признака\n",
    "- Получить векторы признаков заданных изначально классификаторов\n",
    "- Привести матрицу к треугольному виду\n",
    "- Выделить часть, которая не объясняется в базисе признаков\n",
    "- Применить однокомпонентный PCA\n",
    "- Получить классификатор для него\n",
    "- Сравнить с тем, который реально есть для отсутствующего признака"
   ]
  },
  {
   "cell_type": "code",
   "execution_count": 1,
   "metadata": {},
   "outputs": [],
   "source": [
    "from sklearn.feature_extraction.text import CountVectorizer\n",
    "import pandas as pd\n",
    "from sklearn.linear_model import LogisticRegression\n",
    "from sklearn.decomposition import PCA, SparsePCA\n",
    "from sklearn.model_selection import GridSearchCV\n",
    "import numpy as np\n",
    "from tqdm import *\n",
    "from sklearn.externals import joblib\n",
    "import scipy.sparse as sps"
   ]
  },
  {
   "cell_type": "markdown",
   "metadata": {},
   "source": [
    "# Формирование выборки"
   ]
  },
  {
   "cell_type": "code",
   "execution_count": 2,
   "metadata": {},
   "outputs": [],
   "source": [
    "reviews = pd.read_csv(\"reviews_with_wine_features.csv\")"
   ]
  },
  {
   "cell_type": "code",
   "execution_count": 3,
   "metadata": {},
   "outputs": [],
   "source": [
    "reviews[\"filtered_description\"] = reviews[\"filtered_description\"].apply(lambda x: \" \".join(eval(x)))"
   ]
  },
  {
   "cell_type": "code",
   "execution_count": 4,
   "metadata": {},
   "outputs": [],
   "source": [
    "def get_bag_of_words(texts, vectorizer=None):\n",
    "    if not vectorizer:\n",
    "        vectorizer = CountVectorizer()\n",
    "        vectorizer.fit(texts)\n",
    "    transformed_texts = vectorizer.transform(texts)\n",
    "    return transformed_texts, vectorizer"
   ]
  },
  {
   "cell_type": "code",
   "execution_count": 5,
   "metadata": {},
   "outputs": [],
   "source": [
    "features = [c for c in reviews.columns if \"_feature\" in c]\n",
    "reviews = pd.get_dummies(reviews, columns=features)"
   ]
  },
  {
   "cell_type": "code",
   "execution_count": 6,
   "metadata": {},
   "outputs": [],
   "source": [
    "features = [c for c in reviews.columns if \"_feature\" in c]\n",
    "features = [c for c in features if \"madeFromGrape\" not in c]"
   ]
  },
  {
   "cell_type": "code",
   "execution_count": 7,
   "metadata": {},
   "outputs": [],
   "source": [
    "big_enough_features = np.array(features)[np.nonzero(reviews[features].mean() > 0.01)[0]]"
   ]
  },
  {
   "cell_type": "code",
   "execution_count": 8,
   "metadata": {},
   "outputs": [
    {
     "data": {
      "text/plain": [
       "array(['locatedIn_feature_Alsace', 'locatedIn_feature_Bordeaux',\n",
       "       'locatedIn_feature_Bourgogne', 'locatedIn_feature_California',\n",
       "       'locatedIn_feature_Italy', 'locatedIn_feature_Portugal',\n",
       "       'locatedIn_feature_US', 'hasSugar_feature_Dry',\n",
       "       'hasSugar_feature_OffDry', 'hasSugar_feature_Sweet',\n",
       "       'hasBody_feature_Full', 'hasBody_feature_Light',\n",
       "       'hasBody_feature_Medium', 'hasFlavor_feature_Delicate',\n",
       "       'hasFlavor_feature_Moderate', 'hasFlavor_feature_Strong',\n",
       "       'hasColor_feature_Red', 'hasColor_feature_White'],\n",
       "      dtype='<U32')"
      ]
     },
     "execution_count": 8,
     "metadata": {},
     "output_type": "execute_result"
    }
   ],
   "source": [
    "big_enough_features"
   ]
  },
  {
   "cell_type": "code",
   "execution_count": 9,
   "metadata": {},
   "outputs": [],
   "source": [
    "selected_features = ['hasSugar_feature_Dry',\n",
    "       'hasSugar_feature_OffDry', 'hasSugar_feature_Sweet',\n",
    "       'hasBody_feature_Full', 'hasBody_feature_Light',\n",
    "       'hasBody_feature_Medium', 'hasFlavor_feature_Delicate',\n",
    "       'hasFlavor_feature_Moderate', 'hasFlavor_feature_Strong',\n",
    "       'hasColor_feature_Red', 'hasColor_feature_White']"
   ]
  },
  {
   "cell_type": "code",
   "execution_count": 10,
   "metadata": {},
   "outputs": [],
   "source": [
    "valid_classes = []\n",
    "for feature in selected_features:\n",
    "    valid_classes.append(reviews[feature])"
   ]
  },
  {
   "cell_type": "markdown",
   "metadata": {},
   "source": [
    "# Подготовка классификаторов"
   ]
  },
  {
   "cell_type": "code",
   "execution_count": 11,
   "metadata": {},
   "outputs": [],
   "source": [
    "def train_classifier(X, y):\n",
    "    grid = {\n",
    "        'C': np.linspace(0.01, 1, 5)\n",
    "    }\n",
    "    classifier = LogisticRegression()\n",
    "    search = GridSearchCV(estimator=classifier, param_grid=grid, cv=3, scoring='roc_auc', verbose=True)\n",
    "    search.fit(X, y)\n",
    "    return search"
   ]
  },
  {
   "cell_type": "code",
   "execution_count": 18,
   "metadata": {},
   "outputs": [],
   "source": [
    "classifiers = []\n",
    "X, vectorizer = get_bag_of_words(reviews[\"filtered_description\"])"
   ]
  },
  {
   "cell_type": "code",
   "execution_count": 13,
   "metadata": {
    "scrolled": false
   },
   "outputs": [
    {
     "name": "stderr",
     "output_type": "stream",
     "text": [
      "\r",
      "  0%|          | 0/11 [00:00<?, ?it/s]"
     ]
    },
    {
     "name": "stdout",
     "output_type": "stream",
     "text": [
      "Fitting 3 folds for each of 5 candidates, totalling 15 fits\n"
     ]
    },
    {
     "name": "stderr",
     "output_type": "stream",
     "text": [
      "[Parallel(n_jobs=1)]: Done  15 out of  15 | elapsed:   39.9s finished\n",
      "  9%|▉         | 1/11 [00:43<07:15, 43.60s/it]"
     ]
    },
    {
     "name": "stdout",
     "output_type": "stream",
     "text": [
      "0.849040513917\n",
      "Fitting 3 folds for each of 5 candidates, totalling 15 fits\n"
     ]
    },
    {
     "name": "stderr",
     "output_type": "stream",
     "text": [
      "[Parallel(n_jobs=1)]: Done  15 out of  15 | elapsed:   24.8s finished\n",
      " 18%|█▊        | 2/11 [01:10<05:17, 35.33s/it]"
     ]
    },
    {
     "name": "stdout",
     "output_type": "stream",
     "text": [
      "0.875700409435\n",
      "Fitting 3 folds for each of 5 candidates, totalling 15 fits\n"
     ]
    },
    {
     "name": "stderr",
     "output_type": "stream",
     "text": [
      "[Parallel(n_jobs=1)]: Done  15 out of  15 | elapsed:   16.6s finished\n",
      " 27%|██▋       | 3/11 [01:29<03:58, 29.79s/it]"
     ]
    },
    {
     "name": "stdout",
     "output_type": "stream",
     "text": [
      "0.971809883513\n",
      "Fitting 3 folds for each of 5 candidates, totalling 15 fits\n"
     ]
    },
    {
     "name": "stderr",
     "output_type": "stream",
     "text": [
      "[Parallel(n_jobs=1)]: Done  15 out of  15 | elapsed:   34.2s finished\n",
      " 36%|███▋      | 4/11 [02:06<03:41, 31.67s/it]"
     ]
    },
    {
     "name": "stdout",
     "output_type": "stream",
     "text": [
      "0.828378039282\n",
      "Fitting 3 folds for each of 5 candidates, totalling 15 fits\n"
     ]
    },
    {
     "name": "stderr",
     "output_type": "stream",
     "text": [
      "[Parallel(n_jobs=1)]: Done  15 out of  15 | elapsed:   18.0s finished\n",
      " 45%|████▌     | 5/11 [02:26<02:55, 29.31s/it]"
     ]
    },
    {
     "name": "stdout",
     "output_type": "stream",
     "text": [
      "0.852603006123\n",
      "Fitting 3 folds for each of 5 candidates, totalling 15 fits\n"
     ]
    },
    {
     "name": "stderr",
     "output_type": "stream",
     "text": [
      "[Parallel(n_jobs=1)]: Done  15 out of  15 | elapsed:   34.3s finished\n",
      " 55%|█████▍    | 6/11 [03:04<02:33, 30.75s/it]"
     ]
    },
    {
     "name": "stdout",
     "output_type": "stream",
     "text": [
      "0.79070285652\n",
      "Fitting 3 folds for each of 5 candidates, totalling 15 fits\n"
     ]
    },
    {
     "name": "stderr",
     "output_type": "stream",
     "text": [
      "[Parallel(n_jobs=1)]: Done  15 out of  15 | elapsed:   19.2s finished\n",
      " 64%|██████▎   | 7/11 [03:25<01:57, 29.38s/it]"
     ]
    },
    {
     "name": "stdout",
     "output_type": "stream",
     "text": [
      "0.86636420522\n",
      "Fitting 3 folds for each of 5 candidates, totalling 15 fits\n"
     ]
    },
    {
     "name": "stderr",
     "output_type": "stream",
     "text": [
      "[Parallel(n_jobs=1)]: Done  15 out of  15 | elapsed:   31.8s finished\n",
      " 73%|███████▎  | 8/11 [04:00<01:30, 30.06s/it]"
     ]
    },
    {
     "name": "stdout",
     "output_type": "stream",
     "text": [
      "0.7997471509\n",
      "Fitting 3 folds for each of 5 candidates, totalling 15 fits\n"
     ]
    },
    {
     "name": "stderr",
     "output_type": "stream",
     "text": [
      "[Parallel(n_jobs=1)]: Done  15 out of  15 | elapsed:   31.2s finished\n",
      " 82%|████████▏ | 9/11 [04:34<01:01, 30.54s/it]"
     ]
    },
    {
     "name": "stdout",
     "output_type": "stream",
     "text": [
      "0.837659502629\n",
      "Fitting 3 folds for each of 5 candidates, totalling 15 fits\n"
     ]
    },
    {
     "name": "stderr",
     "output_type": "stream",
     "text": [
      "[Parallel(n_jobs=1)]: Done  15 out of  15 | elapsed:   41.1s finished\n",
      " 91%|█████████ | 10/11 [05:20<00:32, 32.05s/it]"
     ]
    },
    {
     "name": "stdout",
     "output_type": "stream",
     "text": [
      "0.905891657549\n",
      "Fitting 3 folds for each of 5 candidates, totalling 15 fits\n"
     ]
    },
    {
     "name": "stderr",
     "output_type": "stream",
     "text": [
      "[Parallel(n_jobs=1)]: Done  15 out of  15 | elapsed:   25.8s finished\n",
      "100%|██████████| 11/11 [05:49<00:00, 31.75s/it]"
     ]
    },
    {
     "name": "stdout",
     "output_type": "stream",
     "text": [
      "0.966083063716\n"
     ]
    },
    {
     "name": "stderr",
     "output_type": "stream",
     "text": [
      "\n"
     ]
    }
   ],
   "source": [
    "for y in tqdm(valid_classes):\n",
    "    grid_search = train_classifier(X, y)\n",
    "    print(grid_search.best_score_)\n",
    "    classifiers.append(grid_search.best_estimator_)"
   ]
  },
  {
   "cell_type": "code",
   "execution_count": 14,
   "metadata": {},
   "outputs": [
    {
     "data": {
      "text/plain": [
       "['classifiers.pkl']"
      ]
     },
     "execution_count": 14,
     "metadata": {},
     "output_type": "execute_result"
    }
   ],
   "source": [
    "joblib.dump(classifiers, 'classifiers.pkl')"
   ]
  },
  {
   "cell_type": "code",
   "execution_count": 19,
   "metadata": {},
   "outputs": [],
   "source": [
    "classifiers = joblib.load('classifiers.pkl')"
   ]
  },
  {
   "cell_type": "markdown",
   "metadata": {},
   "source": [
    "# Составление базиса"
   ]
  },
  {
   "cell_type": "markdown",
   "metadata": {},
   "source": [
    "Выбор признаков красный/белый"
   ]
  },
  {
   "cell_type": "code",
   "execution_count": 20,
   "metadata": {},
   "outputs": [],
   "source": [
    "selected_classifiers = classifiers[:-2]"
   ]
  },
  {
   "cell_type": "code",
   "execution_count": 21,
   "metadata": {},
   "outputs": [],
   "source": [
    "features_vectors = np.array([c.coef_[0] for c in selected_classifiers])"
   ]
  },
  {
   "cell_type": "code",
   "execution_count": 22,
   "metadata": {},
   "outputs": [],
   "source": [
    "features_basis = np.triu(features_vectors)"
   ]
  },
  {
   "cell_type": "code",
   "execution_count": 23,
   "metadata": {},
   "outputs": [],
   "source": [
    "inverted_features_basis = np.linalg.pinv(features_basis)"
   ]
  },
  {
   "cell_type": "code",
   "execution_count": 24,
   "metadata": {},
   "outputs": [],
   "source": [
    "unexplained_X = X - (X * sps.csr_matrix(features_basis).T) * sps.csr_matrix(inverted_features_basis).T"
   ]
  },
  {
   "cell_type": "markdown",
   "metadata": {},
   "source": [
    "# Составление нового признака и сравнение с настоящими значениями"
   ]
  },
  {
   "cell_type": "code",
   "execution_count": 25,
   "metadata": {},
   "outputs": [
    {
     "data": {
      "text/plain": [
       "(129971, 19113)"
      ]
     },
     "execution_count": 25,
     "metadata": {},
     "output_type": "execute_result"
    }
   ],
   "source": [
    "unexplained_X.shape"
   ]
  },
  {
   "cell_type": "code",
   "execution_count": null,
   "metadata": {},
   "outputs": [],
   "source": [
    "covariance = unexplained_X.T * unexplained_X"
   ]
  },
  {
   "cell_type": "code",
   "execution_count": null,
   "metadata": {},
   "outputs": [],
   "source": [
    "eigenvalues, eigenvectors = sps.linalg.eigs(covariance, k=1)"
   ]
  },
  {
   "cell_type": "code",
   "execution_count": null,
   "metadata": {},
   "outputs": [],
   "source": [
    "eigenvalues / np.trace(covariance)"
   ]
  },
  {
   "cell_type": "code",
   "execution_count": null,
   "metadata": {},
   "outputs": [],
   "source": [
    "new_feature_values = eigenvectors * unexplained_X.T\n",
    "new_feature_coefficients = eigenvectors"
   ]
  },
  {
   "cell_type": "code",
   "execution_count": null,
   "metadata": {},
   "outputs": [],
   "source": [
    "new_feature_bias_index = (new_feature_values - new_feature_values.shift()).argmax()\n",
    "new_feature_bias = new_feature_values[new_feature_bias_index] + (new_feature_values[new_feature_bias_index + 1] - new_feature_values[new_feature_bias_index])"
   ]
  },
  {
   "cell_type": "markdown",
   "metadata": {},
   "source": [
    "Сравнение осуществляется через классификацию и просмотр результатов"
   ]
  },
  {
   "cell_type": "code",
   "execution_count": null,
   "metadata": {},
   "outputs": [],
   "source": [
    "new_classifer = LogisticRegression()\n",
    "new_classifier.coef_ = new_feature_coefficients\n",
    "new_classifier.intercept_ = new_feature_bias\n",
    "new_feature_probabilities = new_classifier.predict(X)\n",
    "real_feature_probabilities = classifiers[-1].predict(X)"
   ]
  },
  {
   "cell_type": "code",
   "execution_count": null,
   "metadata": {},
   "outputs": [],
   "source": [
    "new_feature_probabilities - real_feature_probabilities"
   ]
  }
 ],
 "metadata": {
  "kernelspec": {
   "display_name": "Python 3",
   "language": "python",
   "name": "python3"
  },
  "language_info": {
   "codemirror_mode": {
    "name": "ipython",
    "version": 3
   },
   "file_extension": ".py",
   "mimetype": "text/x-python",
   "name": "python",
   "nbconvert_exporter": "python",
   "pygments_lexer": "ipython3",
   "version": "3.5.2"
  }
 },
 "nbformat": 4,
 "nbformat_minor": 2
}
