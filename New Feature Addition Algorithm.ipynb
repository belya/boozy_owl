{
 "cells": [
  {
   "cell_type": "markdown",
   "metadata": {},
   "source": [
    "Добавление нового признака:\n",
    "- Составить выборку bag-of-words\n",
    "- Составить классификаторы для каждого признака\n",
    "- Получить векторы признаков заданных изначально классификаторов\n",
    "- Привести матрицу к треугольному виду\n",
    "- Выделить часть, которая не объясняется в базисе признаков\n",
    "- Применить однокомпонентный PCA\n",
    "- Получить классификатор для него\n",
    "- Сравнить с тем, который реально есть для отсутствующего признака"
   ]
  },
  {
   "cell_type": "code",
   "execution_count": 1,
   "metadata": {},
   "outputs": [],
   "source": [
    "from sklearn.feature_extraction.text import CountVectorizer\n",
    "import pandas as pd\n",
    "from sklearn.linear_model import LogisticRegression\n",
    "from sklearn.decomposition import PCA\n",
    "from sklearn.model_selection import GridSearchCV\n",
    "import numpy as np\n",
    "from tqdm import *\n",
    "from sklearn.externals import joblib\n",
    "import scipy.sparse as sps"
   ]
  },
  {
   "cell_type": "markdown",
   "metadata": {},
   "source": [
    "# Формирование выборки"
   ]
  },
  {
   "cell_type": "code",
   "execution_count": 2,
   "metadata": {},
   "outputs": [],
   "source": [
    "reviews = pd.read_csv(\"reviews_with_wine_features.csv\")"
   ]
  },
  {
   "cell_type": "code",
   "execution_count": 3,
   "metadata": {},
   "outputs": [],
   "source": [
    "reviews[\"filtered_description\"] = reviews[\"filtered_description\"].apply(lambda x: \" \".join(eval(x)))"
   ]
  },
  {
   "cell_type": "code",
   "execution_count": 4,
   "metadata": {},
   "outputs": [],
   "source": [
    "def get_bag_of_words(texts, vectorizer=None):\n",
    "    if not vectorizer:\n",
    "        vectorizer = CountVectorizer()\n",
    "        vectorizer.fit(texts)\n",
    "    transformed_texts = vectorizer.transform(texts)\n",
    "    return transformed_texts, vectorizer"
   ]
  },
  {
   "cell_type": "code",
   "execution_count": 5,
   "metadata": {},
   "outputs": [],
   "source": [
    "features = [c for c in reviews.columns if \"_feature\" in c]\n",
    "reviews = pd.get_dummies(reviews, columns=features)"
   ]
  },
  {
   "cell_type": "code",
   "execution_count": 6,
   "metadata": {},
   "outputs": [],
   "source": [
    "features = [c for c in reviews.columns if \"_feature\" in c]\n",
    "features = [c for c in features if \"madeFromGrape\" not in c]"
   ]
  },
  {
   "cell_type": "code",
   "execution_count": 7,
   "metadata": {},
   "outputs": [],
   "source": [
    "big_enough_features = np.array(features)[np.nonzero(reviews[features].mean() > 0.01)[0]]"
   ]
  },
  {
   "cell_type": "code",
   "execution_count": 8,
   "metadata": {},
   "outputs": [
    {
     "data": {
      "text/plain": [
       "array(['locatedIn_feature_Alsace', 'locatedIn_feature_Bordeaux',\n",
       "       'locatedIn_feature_Bourgogne', 'locatedIn_feature_California',\n",
       "       'locatedIn_feature_Italy', 'locatedIn_feature_Portugal',\n",
       "       'locatedIn_feature_US', 'hasSugar_feature_Dry',\n",
       "       'hasSugar_feature_OffDry', 'hasSugar_feature_Sweet',\n",
       "       'hasBody_feature_Full', 'hasBody_feature_Light',\n",
       "       'hasBody_feature_Medium', 'hasFlavor_feature_Delicate',\n",
       "       'hasFlavor_feature_Moderate', 'hasFlavor_feature_Strong',\n",
       "       'hasColor_feature_Red', 'hasColor_feature_White'],\n",
       "      dtype='<U32')"
      ]
     },
     "execution_count": 8,
     "metadata": {},
     "output_type": "execute_result"
    }
   ],
   "source": [
    "big_enough_features"
   ]
  },
  {
   "cell_type": "code",
   "execution_count": 9,
   "metadata": {},
   "outputs": [],
   "source": [
    "selected_features = ['hasSugar_feature_Dry',\n",
    "       'hasSugar_feature_OffDry', 'hasSugar_feature_Sweet',\n",
    "       'hasBody_feature_Full', 'hasBody_feature_Light',\n",
    "       'hasBody_feature_Medium', 'hasFlavor_feature_Delicate',\n",
    "       'hasFlavor_feature_Moderate', 'hasFlavor_feature_Strong',\n",
    "       'hasColor_feature_Red', 'hasColor_feature_White']"
   ]
  },
  {
   "cell_type": "code",
   "execution_count": 10,
   "metadata": {},
   "outputs": [],
   "source": [
    "valid_classes = []\n",
    "for feature in selected_features:\n",
    "    valid_classes.append(reviews[feature])"
   ]
  },
  {
   "cell_type": "markdown",
   "metadata": {},
   "source": [
    "# Подготовка классификаторов"
   ]
  },
  {
   "cell_type": "code",
   "execution_count": 11,
   "metadata": {},
   "outputs": [],
   "source": [
    "def train_classifier(X, y):\n",
    "    grid = {\n",
    "        'C': np.linspace(0.01, 1, 5)\n",
    "    }\n",
    "    classifier = LogisticRegression()\n",
    "    search = GridSearchCV(estimator=classifier, param_grid=grid, cv=3, scoring='roc_auc', verbose=True)\n",
    "    search.fit(X, y)\n",
    "    return search"
   ]
  },
  {
   "cell_type": "code",
   "execution_count": 12,
   "metadata": {},
   "outputs": [],
   "source": [
    "classifiers = []\n",
    "X, vectorizer = get_bag_of_words(reviews[\"filtered_description\"])"
   ]
  },
  {
   "cell_type": "code",
   "execution_count": null,
   "metadata": {
    "scrolled": false
   },
   "outputs": [],
   "source": [
    "for y in tqdm(valid_classes):\n",
    "    grid_search = train_classifier(X, y)\n",
    "    print(grid_search.best_score_)\n",
    "    classifiers.append(grid_search.best_estimator_)"
   ]
  },
  {
   "cell_type": "code",
   "execution_count": 26,
   "metadata": {},
   "outputs": [
    {
     "data": {
      "text/plain": [
       "['classifiers.pkl']"
      ]
     },
     "execution_count": 26,
     "metadata": {},
     "output_type": "execute_result"
    }
   ],
   "source": [
    "joblib.dump(classifiers, 'classifiers.pkl')"
   ]
  },
  {
   "cell_type": "code",
   "execution_count": 13,
   "metadata": {},
   "outputs": [],
   "source": [
    "classifiers = joblib.load('classifiers.pkl')"
   ]
  },
  {
   "cell_type": "markdown",
   "metadata": {},
   "source": [
    "# Составление базиса"
   ]
  },
  {
   "cell_type": "markdown",
   "metadata": {},
   "source": [
    "Выбор признаков красный/белый"
   ]
  },
  {
   "cell_type": "code",
   "execution_count": 14,
   "metadata": {},
   "outputs": [],
   "source": [
    "selected_classifiers = classifiers[:-2]"
   ]
  },
  {
   "cell_type": "code",
   "execution_count": 15,
   "metadata": {},
   "outputs": [],
   "source": [
    "features_vectors = np.array([c.coef_[0] for c in selected_classifiers])"
   ]
  },
  {
   "cell_type": "code",
   "execution_count": 16,
   "metadata": {},
   "outputs": [],
   "source": [
    "features_basis = np.triu(features_vectors)"
   ]
  },
  {
   "cell_type": "code",
   "execution_count": 17,
   "metadata": {},
   "outputs": [],
   "source": [
    "inverted_features_basis = np.linalg.pinv(features_basis)"
   ]
  },
  {
   "cell_type": "code",
   "execution_count": null,
   "metadata": {},
   "outputs": [],
   "source": [
    "(X * sps.csr_matrix(features_basis).T) * sps.csr_matrix(inverted_features_basis).T"
   ]
  },
  {
   "cell_type": "code",
   "execution_count": null,
   "metadata": {},
   "outputs": [],
   "source": [
    "unexplained_X = X - _"
   ]
  },
  {
   "cell_type": "markdown",
   "metadata": {},
   "source": [
    "# Составление нового признака и сравнение с настоящими значениями"
   ]
  },
  {
   "cell_type": "code",
   "execution_count": null,
   "metadata": {},
   "outputs": [],
   "source": [
    "pca = PCA(n_components=1)\n",
    "new_feature_values = pca.fit_transform(unexplained_X)\n",
    "new_feature_coefficients = pca.components_"
   ]
  },
  {
   "cell_type": "code",
   "execution_count": null,
   "metadata": {},
   "outputs": [],
   "source": [
    "new_feature_bias_index = (new_feature_values - new_feature_values.shift()).argmax()\n",
    "new_feature_bias = new_feature_values[new_feature_bias_index] + (new_feature_values[new_feature_bias_index + 1] - new_feature_values[new_feature_bias_index])"
   ]
  },
  {
   "cell_type": "markdown",
   "metadata": {},
   "source": [
    "Сравнение осуществляется через классификацию и просмотр результатов"
   ]
  },
  {
   "cell_type": "code",
   "execution_count": null,
   "metadata": {},
   "outputs": [],
   "source": [
    "new_classifer = LogisticRegression()\n",
    "new_classifier.coef_ = new_feature_coefficients\n",
    "new_classifier.intercept_ = new_feature_bias\n",
    "new_feature_probabilities = new_classifier.predict(X)\n",
    "real_feature_probabilities = classifiers[-1].predict(X)"
   ]
  },
  {
   "cell_type": "code",
   "execution_count": null,
   "metadata": {},
   "outputs": [],
   "source": [
    "new_feature_probabilities - real_feature_probabilities"
   ]
  }
 ],
 "metadata": {
  "kernelspec": {
   "display_name": "Python 3",
   "language": "python",
   "name": "python3"
  },
  "language_info": {
   "codemirror_mode": {
    "name": "ipython",
    "version": 3
   },
   "file_extension": ".py",
   "mimetype": "text/x-python",
   "name": "python",
   "nbconvert_exporter": "python",
   "pygments_lexer": "ipython3",
   "version": "3.5.2"
  }
 },
 "nbformat": 4,
 "nbformat_minor": 2
}
