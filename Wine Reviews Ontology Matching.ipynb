{
 "cells": [
  {
   "cell_type": "code",
   "execution_count": 1,
   "metadata": {},
   "outputs": [],
   "source": [
    "import ontospy\n",
    "import pandas as pd\n",
    "from ontodocs.viz.viz_html_single import *\n",
    "import rdflib\n",
    "import pronto\n",
    "import inflection\n",
    "import re\n",
    "import numpy as npTrain\n",
    "from tqdm import *\n",
    "import json\n",
    "import os\n",
    "import sys\n",
    "import codecs\n",
    "import collections\n",
    "import nltk\n",
    "from lxml import etree\n",
    "from lxml.html.clean import Cleaner\n",
    "from pymystem3 import Mystem\n",
    "from nltk.corpus import stopwords"
   ]
  },
  {
   "cell_type": "markdown",
   "metadata": {},
   "source": [
    "# Анализ онтологии"
   ]
  },
  {
   "cell_type": "markdown",
   "metadata": {},
   "source": [
    "Получаем элементы онтологии, которые являются терминальными и исходят из класса Wine"
   ]
  },
  {
   "cell_type": "code",
   "execution_count": 2,
   "metadata": {},
   "outputs": [],
   "source": [
    "import rdflib\n",
    "g = rdflib.Graph()\n",
    "g.load('./wine.rdf')"
   ]
  },
  {
   "cell_type": "markdown",
   "metadata": {},
   "source": [
    "Составляем фрагмент онтологии"
   ]
  },
  {
   "cell_type": "code",
   "execution_count": null,
   "metadata": {},
   "outputs": [],
   "source": [
    "classes = [\"AlsatianWine\", \"AmericanWine\", \"Beaujolais\", \"Bordeaux\", \"Medoc\", \"Margaux\", \"Pauillac\", \"RedBordeaux\", \"Sauternes\", \"StEmilion\", \"WhiteBordeaux\", \"Burgundy\", \"RedBurgundy\", \"CotesDOr\", \"WhiteBurgundy\", \"Meursault\", \"CabernetFranc\", \"CabernetSauvignon\", \"CaliforniaWine\", \"Chardonnay\", \"CheninBlanc\", \"DessertWine\", \"IceWine\", \"SweetRiesling\", \"DryWine\", \"DryRedWine\", \"DryWhiteWine\", \"EarlyHarvest\", \"FrenchWine\", \"FullBodiedWine\", \"Gamay\", \"GermanWine\", \"ItalianWine\", \"Chianti\", \"LateHarvest\", \"IceWine\", \"Sauternes\", \"Loire\", \"Anjou\", \"Muscadet\", \"Sancerre\", \"Tours\", \"WhiteLoire\", \"Meritage\", \"Merlot\", \"PetiteSyrah\", \"PinotBlanc\", \"PinotNoir\", \"RedWine\", \"DryRedWine\", \"Port\", \"RedBordeaux\", \"RedBurgundy\", \"CotesDOr\", \"Riesling\", \"DryRiesling\", \"SweetRiesling\", \"RoseWine\", \"SemillonOrSauvignonBlanc\", \"SauvignonBlanc\", \"Semillon\", \"SweetWine\", \"TableWine\", \"RedTableWine\", \"WhiteTableWine\", \"TexasWine\", \"WhiteWine\", \"DryWhiteWine\", \"WhiteBordeaux\", \"WhiteBurgundy\", \"Meursault\", \"WhiteLoire\", \"WhiteNonSweetWine\", \"Zinfandel\"]"
   ]
  },
  {
   "cell_type": "code",
   "execution_count": null,
   "metadata": {},
   "outputs": [],
   "source": [
    "whitelist_features = [\"hasBody\", \"hasSugar\", \"hasFlavor\", \"hasColor\", \"madeFromGrape\"]\n",
    "def find_features(graph, class_name):\n",
    "    features = {}\n",
    "    for s, p, o in graph:\n",
    "        selected_class = str(s).split(\"#\")[-1]\n",
    "        selected_feature = str(p).split(\"#\")[-1]\n",
    "        if ((class_name == selected_class) and (selected_feature in whitelist_features)):\n",
    "            features[selected_feature] = str(o).split(\"#\")[-1]\n",
    "    return features\n",
    "\n",
    "def find_instances(graph, class_name):\n",
    "    instances = []\n",
    "    for s, p, o in graph:\n",
    "        selected_class = str(o).split(\"#\")[-1]\n",
    "        selected_feature = str(p).split(\"#\")[-1]\n",
    "        if ((class_name == selected_class) and (selected_feature == \"type\")):\n",
    "            instances.append(str(s).split(\"#\")[-1])\n",
    "    return instances"
   ]
  },
  {
   "cell_type": "code",
   "execution_count": null,
   "metadata": {},
   "outputs": [],
   "source": [
    "instances = [find_instances(g, c) + [c] for c in classes]\n",
    "instances = [i for l in instances for i in l]"
   ]
  },
  {
   "cell_type": "code",
   "execution_count": null,
   "metadata": {},
   "outputs": [],
   "source": [
    "instances"
   ]
  },
  {
   "cell_type": "markdown",
   "metadata": {},
   "source": [
    "# Анализ отзывов"
   ]
  },
  {
   "cell_type": "code",
   "execution_count": null,
   "metadata": {},
   "outputs": [],
   "source": [
    "reviews = pd.read_csv(\"./wine-reviews/winemag-data-130k-v2.csv\")"
   ]
  },
  {
   "cell_type": "code",
   "execution_count": null,
   "metadata": {},
   "outputs": [],
   "source": [
    "reviews"
   ]
  },
  {
   "cell_type": "markdown",
   "metadata": {},
   "source": [
    "Какие сомелье участвовали"
   ]
  },
  {
   "cell_type": "code",
   "execution_count": null,
   "metadata": {
    "scrolled": true
   },
   "outputs": [],
   "source": [
    "reviews.groupby(\"taster_name\").describe()[\"points\"][[\"count\"]]"
   ]
  },
  {
   "cell_type": "markdown",
   "metadata": {},
   "source": [
    "Какие вина описывались и как они соотносятся с онтологией"
   ]
  },
  {
   "cell_type": "code",
   "execution_count": null,
   "metadata": {},
   "outputs": [],
   "source": [
    "reviews[\"title\"]"
   ]
  },
  {
   "cell_type": "code",
   "execution_count": null,
   "metadata": {
    "scrolled": true
   },
   "outputs": [],
   "source": [
    "reviews.groupby(\"variety\").describe()[\"points\"][[\"count\"]]"
   ]
  },
  {
   "cell_type": "code",
   "execution_count": null,
   "metadata": {},
   "outputs": [],
   "source": [
    "types = [inflection.underscore(k).split(\"_\") for k in ontology.keys()]"
   ]
  },
  {
   "cell_type": "code",
   "execution_count": null,
   "metadata": {},
   "outputs": [],
   "source": [
    "reviews.groupby(\"variety\").describe()[\"points\"][[\"count\"]].sort_values(by=[\"count\"])"
   ]
  },
  {
   "cell_type": "markdown",
   "metadata": {},
   "source": [
    "Сопоставляем виноград по названию"
   ]
  },
  {
   "cell_type": "markdown",
   "metadata": {},
   "source": [
    "Сопоставляем вина по названию"
   ]
  },
  {
   "cell_type": "code",
   "execution_count": null,
   "metadata": {},
   "outputs": [],
   "source": [
    "reviews[\"title_array\"] = reviews[\"title\"].apply(lambda x: re.sub(\"[\\(\\)\\.-]\", \"\", x)).str.lower().str.split()"
   ]
  },
  {
   "cell_type": "code",
   "execution_count": null,
   "metadata": {},
   "outputs": [],
   "source": [
    "def jaccard(x, y):\n",
    "    x = list(set(x))\n",
    "    y = list(set(y))\n",
    "    intersection = list(set([a for a in x if a in y]))\n",
    "    union = list(set(x + y))\n",
    "    return len(intersection)/len(union)"
   ]
  },
  {
   "cell_type": "code",
   "execution_count": null,
   "metadata": {},
   "outputs": [],
   "source": [
    "reviews[\"max_jaccard\"] = reviews[\"title_array\"].apply(lambda x: np.max([jaccard(x, y) for y in types]))\n",
    "reviews[\"closest_type\"] = reviews[\"title_array\"].apply(lambda x: types[np.argmax([jaccard(x, y) for y in types])])"
   ]
  },
  {
   "cell_type": "code",
   "execution_count": null,
   "metadata": {},
   "outputs": [],
   "source": [
    "reviews[reviews[\"max_jaccard\"] > 0.4][[\"title_array\", \"closest_type\", \"max_jaccard\"]].sort_values(by=[\"max_jaccard\"], ascending=[0])"
   ]
  },
  {
   "cell_type": "markdown",
   "metadata": {},
   "source": [
    "Составляем датасет"
   ]
  },
  {
   "cell_type": "code",
   "execution_count": 78,
   "metadata": {},
   "outputs": [],
   "source": [
    "ontology = instances"
   ]
  },
  {
   "cell_type": "code",
   "execution_count": 79,
   "metadata": {},
   "outputs": [],
   "source": [
    "def get_features(x):\n",
    "    features = []\n",
    "    for k, v in x.items():\n",
    "        features.append(k.replace(\"has\", \"\") + \"Is\" + v)\n",
    "    return features"
   ]
  },
  {
   "cell_type": "code",
   "execution_count": null,
   "metadata": {},
   "outputs": [],
   "source": [
    "features = list(set(f for k, v in ontology.items() for f in get_features(v)))"
   ]
  },
  {
   "cell_type": "code",
   "execution_count": null,
   "metadata": {},
   "outputs": [],
   "source": [
    "wines = list(ontology.keys())"
   ]
  },
  {
   "cell_type": "code",
   "execution_count": null,
   "metadata": {},
   "outputs": [],
   "source": [
    "features"
   ]
  },
  {
   "cell_type": "code",
   "execution_count": null,
   "metadata": {},
   "outputs": [],
   "source": [
    "links = [(k, f) for k, v in ontology.items() for f in get_features(v)]"
   ]
  },
  {
   "cell_type": "code",
   "execution_count": null,
   "metadata": {},
   "outputs": [],
   "source": [
    "wine_nodes = [{\"id\": wine, \"group\": \"wine\"} for wine in wines]"
   ]
  },
  {
   "cell_type": "code",
   "execution_count": null,
   "metadata": {},
   "outputs": [],
   "source": [
    "feature_nodes = [{\"id\": feature, \"group\": \"feature\"} for feature in features]"
   ]
  },
  {
   "cell_type": "code",
   "execution_count": null,
   "metadata": {},
   "outputs": [],
   "source": [
    "nodes = wine_nodes + feature_nodes"
   ]
  },
  {
   "cell_type": "code",
   "execution_count": null,
   "metadata": {},
   "outputs": [],
   "source": [
    "graph_links = [{\"source\": wine, \"target\": feature} for wine, feature in links]"
   ]
  },
  {
   "cell_type": "code",
   "execution_count": null,
   "metadata": {},
   "outputs": [],
   "source": [
    "graph = {\"nodes\": nodes, \"links\": graph_links}"
   ]
  },
  {
   "cell_type": "code",
   "execution_count": null,
   "metadata": {},
   "outputs": [],
   "source": [
    "json.dumps(graph)"
   ]
  },
  {
   "cell_type": "markdown",
   "metadata": {},
   "source": [
    "# Чистка отзывов"
   ]
  },
  {
   "cell_type": "code",
   "execution_count": null,
   "metadata": {},
   "outputs": [],
   "source": [
    "reviews[\"filtered_description\"] = reviews[\"description\"].str.lower().apply(lambda x: re.sub(\"[^\\w\\s]\", \"\", x))"
   ]
  },
  {
   "cell_type": "code",
   "execution_count": null,
   "metadata": {},
   "outputs": [],
   "source": [
    "stopwords_list = set(stopwords.words('english'))"
   ]
  },
  {
   "cell_type": "code",
   "execution_count": null,
   "metadata": {},
   "outputs": [],
   "source": [
    "reviews[\"filtered_description\"] = reviews[\"filtered_description\"].str.lower().str.split().apply(lambda x: [w for w in x if w not in stopwords_list])"
   ]
  },
  {
   "cell_type": "code",
   "execution_count": null,
   "metadata": {},
   "outputs": [],
   "source": [
    "reviews[\"filtered_description\"] = reviews[\"filtered_description\"].apply(lambda x: [w for w in x if len(w) > 2])"
   ]
  },
  {
   "cell_type": "code",
   "execution_count": 27,
   "metadata": {},
   "outputs": [],
   "source": [
    "frequencies = nltk.FreqDist([w for r in reviews[\"filtered_description\"] for w in r])"
   ]
  },
  {
   "cell_type": "code",
   "execution_count": 28,
   "metadata": {},
   "outputs": [],
   "source": [
    "low_frequency = np.percentile(list(frequencies.values()), 50)"
   ]
  },
  {
   "cell_type": "code",
   "execution_count": 29,
   "metadata": {},
   "outputs": [],
   "source": [
    "reviews[\"filtered_description\"] = reviews[\"filtered_description\"].apply(lambda x: [w for w in x if frequencies[w] > low_frequency])"
   ]
  },
  {
   "cell_type": "code",
   "execution_count": null,
   "metadata": {},
   "outputs": [],
   "source": [
    "mystem = Mystem()"
   ]
  },
  {
   "cell_type": "code",
   "execution_count": null,
   "metadata": {},
   "outputs": [],
   "source": [
    "def lemmatize_words(word_list):\n",
    "    processed_word_list = []\n",
    "    for word in word_list:\n",
    "        word = mystem.lemmatize(word)[0]\n",
    "        processed_word_list.append(word)\n",
    "    return processed_word_list    "
   ]
  },
  {
   "cell_type": "code",
   "execution_count": null,
   "metadata": {},
   "outputs": [],
   "source": [
    "lemmas = []\n",
    "for r in tqdm(reviews[\"filtered_description\"]):\n",
    "    lemmas.append(lemmatize_words(r))\n",
    "reviews[\"filtered_description\"] = lemmas"
   ]
  },
  {
   "cell_type": "markdown",
   "metadata": {},
   "source": [
    "# Формирование выборки и классификация"
   ]
  },
  {
   "cell_type": "code",
   "execution_count": 210,
   "metadata": {},
   "outputs": [],
   "source": [
    "from sklearn.model_selection import train_test_split"
   ]
  },
  {
   "cell_type": "code",
   "execution_count": 211,
   "metadata": {},
   "outputs": [],
   "source": [
    "selected_reviews = reviews"
   ]
  },
  {
   "cell_type": "code",
   "execution_count": 212,
   "metadata": {},
   "outputs": [],
   "source": [
    "from keras.preprocessing import text\n",
    "texts = selected_reviews[\"filtered_description\"].tolist()"
   ]
  },
  {
   "cell_type": "code",
   "execution_count": 236,
   "metadata": {},
   "outputs": [],
   "source": [
    "import pdb\n",
    "words = {}\n",
    "\n",
    "def get_word_index(w):\n",
    "    if w not in words.keys():\n",
    "        words[w] = len(words.keys()) + 1\n",
    "    return words[w]"
   ]
  },
  {
   "cell_type": "code",
   "execution_count": 215,
   "metadata": {},
   "outputs": [],
   "source": [
    "def extract_feature(x, feature):\n",
    "    if feature not in instances[x].keys():\n",
    "        return None\n",
    "    if type(instances[x][feature]) is list:\n",
    "        return np.random.choice(instances[x][feature])\n",
    "    return instances[x][feature]\n",
    "    \n",
    "def extract_flavor(x):\n",
    "    return extract_feature(x, \"hasColor\")\n",
    "\n",
    "selected_reviews[\"color\"] = selected_reviews[\"wine_from_ontology\"].apply(extract_flavor)"
   ]
  },
  {
   "cell_type": "code",
   "execution_count": 216,
   "metadata": {},
   "outputs": [
    {
     "data": {
      "text/plain": [
       "Red      61182\n",
       "White    23891\n",
       "Rose        38\n",
       "Name: color, dtype: int64"
      ]
     },
     "execution_count": 216,
     "metadata": {},
     "output_type": "execute_result"
    }
   ],
   "source": [
    "selected_reviews[\"color\"].value_counts()"
   ]
  },
  {
   "cell_type": "code",
   "execution_count": 217,
   "metadata": {},
   "outputs": [],
   "source": [
    "y = pd.get_dummies(selected_reviews, columns=[\"color\"])[[\"color_Red\", \"color_White\", \"color_Rose\"]].as_matrix()"
   ]
  },
  {
   "cell_type": "code",
   "execution_count": 229,
   "metadata": {},
   "outputs": [],
   "source": [
    "all_wines = selected_reviews[\"wine_from_ontology\"].unique()\n",
    "train_wines = np.random.choice(selected_reviews[\"wine_from_ontology\"].unique(), size=int(all_wines.shape[0]*0.5))"
   ]
  },
  {
   "cell_type": "code",
   "execution_count": 231,
   "metadata": {},
   "outputs": [],
   "source": [
    "train = selected_reviews[selected_reviews[\"wine_from_ontology\"].apply(lambda x: x in train_wines)]"
   ]
  },
  {
   "cell_type": "code",
   "execution_count": 234,
   "metadata": {},
   "outputs": [],
   "source": [
    "test = selected_reviews.drop(train.index)"
   ]
  },
  {
   "cell_type": "code",
   "execution_count": 237,
   "metadata": {},
   "outputs": [
    {
     "name": "stderr",
     "output_type": "stream",
     "text": [
      "100%|██████████| 63837/63837 [00:03<00:00, 18768.93it/s]\n"
     ]
    }
   ],
   "source": [
    "X_train = [[get_word_index(w) for w in text] for text in tqdm(train[\"filtered_description\"])]"
   ]
  },
  {
   "cell_type": "code",
   "execution_count": 239,
   "metadata": {},
   "outputs": [],
   "source": [
    "y_train = y[train.index]"
   ]
  },
  {
   "cell_type": "code",
   "execution_count": 238,
   "metadata": {},
   "outputs": [
    {
     "name": "stderr",
     "output_type": "stream",
     "text": [
      "100%|██████████| 66134/66134 [00:03<00:00, 19139.76it/s]\n"
     ]
    }
   ],
   "source": [
    "X_test = [[get_word_index(w) for w in text] for text in tqdm(test[\"filtered_description\"])]"
   ]
  },
  {
   "cell_type": "code",
   "execution_count": 240,
   "metadata": {},
   "outputs": [],
   "source": [
    "y_test = y[test.index]"
   ]
  },
  {
   "cell_type": "code",
   "execution_count": 241,
   "metadata": {},
   "outputs": [],
   "source": [
    "# set parameters:\n",
    "max_features = 20000  # vocabulary size\n",
    "maxlen = 100  # maximum length of the review\n",
    "batch_size = 32\n",
    "embedding_dims = 20\n",
    "ngram_filters = [3, 5, 7]\n",
    "nb_filter = 1200  # number of filters for each ngram_filter\n",
    "nb_epoch = 5"
   ]
  },
  {
   "cell_type": "markdown",
   "metadata": {},
   "source": [
    "Преобразовать к bag of words каждое предложение"
   ]
  },
  {
   "cell_type": "code",
   "execution_count": 242,
   "metadata": {},
   "outputs": [
    {
     "name": "stdout",
     "output_type": "stream",
     "text": [
      "Loading data...\n",
      "63837 train sequences\n",
      "66134 test sequences\n",
      "Pad sequences (samples x time)\n",
      "X_train shape: (63837, 100)\n",
      "X_test shape: (66134, 100)\n"
     ]
    }
   ],
   "source": [
    "'''This scripts implements Kim's paper \"Convolutional Neural Networks for Sentence Classification\"\n",
    "with a very small embedding size (20) than the commonly used values (100 - 300) as it gives better\n",
    "result with much less parameters.\n",
    "\n",
    "Run on GPU: THEANO_FLAGS=mode=FAST_RUN,device=gpu,floatX=float32 python imdb_cnn.py\n",
    "\n",
    "Get to 0.853 test accuracy after 5 epochs. 13s/epoch on Nvidia GTX980 GPU.\n",
    "'''\n",
    "\n",
    "from __future__ import print_function\n",
    "import numpy as np\n",
    "from keras.preprocessing import sequence\n",
    "from keras.models import Model\n",
    "from keras.layers import Input, Add\n",
    "from keras.layers.core import Dropout, Activation, Flatten, Dense\n",
    "from keras.layers.embeddings import Embedding\n",
    "from keras.layers.convolutional import Convolution1D, MaxPooling1D\n",
    "\n",
    "# prepare data\n",
    "print('Loading data...')\n",
    "print(len(X_train), 'train sequences')\n",
    "print(len(X_test), 'test sequences')\n",
    "\n",
    "print('Pad sequences (samples x time)')\n",
    "X_train = sequence.pad_sequences(X_train, maxlen=maxlen)\n",
    "X_test = sequence.pad_sequences(X_test, maxlen=maxlen)\n",
    "print('X_train shape:', X_train.shape)\n",
    "print('X_test shape:', X_test.shape)"
   ]
  },
  {
   "cell_type": "code",
   "execution_count": 243,
   "metadata": {},
   "outputs": [],
   "source": [
    "input_layer =  Input(shape=(maxlen,))\n",
    "embeddings = Embedding(max_features, embedding_dims, input_length=maxlen)(input_layer)\n",
    "dropout = Dropout(0.)(embeddings)\n",
    "outs = []\n",
    "for n_gram in ngram_filters:\n",
    "    convolution = Convolution1D(filters=nb_filter,\n",
    "                                 kernel_size=n_gram,\n",
    "                                 padding='valid',\n",
    "                                 activation='relu',\n",
    "                                 strides=1,\n",
    "                                 input_shape=(embedding_dims, maxlen))(dropout)\n",
    "    pooling = MaxPooling1D(pool_size=maxlen - n_gram + 1)(convolution)\n",
    "    flatten = Flatten()(pooling)\n",
    "    outs.append(flatten)\n",
    "added = Add()(outs) \n",
    "dropout = Dropout(0.)(added)\n",
    "dense = Dense(3, input_dim=nb_filter * len(ngram_filters))(dropout)\n",
    "activation = Activation('sigmoid')(dense)\n",
    "\n",
    "model = Model(inputs=input_layer, outputs=activation)"
   ]
  },
  {
   "cell_type": "code",
   "execution_count": 244,
   "metadata": {
    "scrolled": false
   },
   "outputs": [
    {
     "name": "stdout",
     "output_type": "stream",
     "text": [
      "Train on 63837 samples, validate on 66134 samples\n",
      "Epoch 1/5\n",
      "63837/63837 [==============================] - 3341s 52ms/step - loss: 0.1783 - acc: 0.9257 - val_loss: 0.9928 - val_acc: 0.7919\n",
      "Epoch 2/5\n",
      "  800/63837 [..............................] - ETA: 43:04 - loss: 0.1669 - acc: 0.9412"
     ]
    },
    {
     "ename": "KeyboardInterrupt",
     "evalue": "",
     "output_type": "error",
     "traceback": [
      "\u001b[0;31m---------------------------------------------------------------------------\u001b[0m",
      "\u001b[0;31mKeyboardInterrupt\u001b[0m                         Traceback (most recent call last)",
      "\u001b[0;32m<ipython-input-244-78cea58dddd2>\u001b[0m in \u001b[0;36m<module>\u001b[0;34m()\u001b[0m\n\u001b[1;32m      4\u001b[0m           \u001b[0mbatch_size\u001b[0m\u001b[0;34m=\u001b[0m\u001b[0mbatch_size\u001b[0m\u001b[0;34m,\u001b[0m\u001b[0;34m\u001b[0m\u001b[0m\n\u001b[1;32m      5\u001b[0m           \u001b[0mepochs\u001b[0m\u001b[0;34m=\u001b[0m\u001b[0mnb_epoch\u001b[0m\u001b[0;34m,\u001b[0m\u001b[0;34m\u001b[0m\u001b[0m\n\u001b[0;32m----> 6\u001b[0;31m           validation_data=(X_test, y_test),)\n\u001b[0m\u001b[1;32m      7\u001b[0m \u001b[0;31m# acc = accuracy(y_test,\u001b[0m\u001b[0;34m\u001b[0m\u001b[0;34m\u001b[0m\u001b[0m\n\u001b[1;32m      8\u001b[0m \u001b[0;31m#                np.round(np.array(model.predict({'input': X_test},\u001b[0m\u001b[0;34m\u001b[0m\u001b[0;34m\u001b[0m\u001b[0m\n",
      "\u001b[0;32m/usr/local/lib/python3.5/dist-packages/keras/engine/training.py\u001b[0m in \u001b[0;36mfit\u001b[0;34m(self, x, y, batch_size, epochs, verbose, callbacks, validation_split, validation_data, shuffle, class_weight, sample_weight, initial_epoch, steps_per_epoch, validation_steps, **kwargs)\u001b[0m\n\u001b[1;32m   1703\u001b[0m                               \u001b[0minitial_epoch\u001b[0m\u001b[0;34m=\u001b[0m\u001b[0minitial_epoch\u001b[0m\u001b[0;34m,\u001b[0m\u001b[0;34m\u001b[0m\u001b[0m\n\u001b[1;32m   1704\u001b[0m                               \u001b[0msteps_per_epoch\u001b[0m\u001b[0;34m=\u001b[0m\u001b[0msteps_per_epoch\u001b[0m\u001b[0;34m,\u001b[0m\u001b[0;34m\u001b[0m\u001b[0m\n\u001b[0;32m-> 1705\u001b[0;31m                               validation_steps=validation_steps)\n\u001b[0m\u001b[1;32m   1706\u001b[0m \u001b[0;34m\u001b[0m\u001b[0m\n\u001b[1;32m   1707\u001b[0m     def evaluate(self, x=None, y=None,\n",
      "\u001b[0;32m/usr/local/lib/python3.5/dist-packages/keras/engine/training.py\u001b[0m in \u001b[0;36m_fit_loop\u001b[0;34m(self, f, ins, out_labels, batch_size, epochs, verbose, callbacks, val_f, val_ins, shuffle, callback_metrics, initial_epoch, steps_per_epoch, validation_steps)\u001b[0m\n\u001b[1;32m   1233\u001b[0m                         \u001b[0mins_batch\u001b[0m\u001b[0;34m[\u001b[0m\u001b[0mi\u001b[0m\u001b[0;34m]\u001b[0m \u001b[0;34m=\u001b[0m \u001b[0mins_batch\u001b[0m\u001b[0;34m[\u001b[0m\u001b[0mi\u001b[0m\u001b[0;34m]\u001b[0m\u001b[0;34m.\u001b[0m\u001b[0mtoarray\u001b[0m\u001b[0;34m(\u001b[0m\u001b[0;34m)\u001b[0m\u001b[0;34m\u001b[0m\u001b[0m\n\u001b[1;32m   1234\u001b[0m \u001b[0;34m\u001b[0m\u001b[0m\n\u001b[0;32m-> 1235\u001b[0;31m                     \u001b[0mouts\u001b[0m \u001b[0;34m=\u001b[0m \u001b[0mf\u001b[0m\u001b[0;34m(\u001b[0m\u001b[0mins_batch\u001b[0m\u001b[0;34m)\u001b[0m\u001b[0;34m\u001b[0m\u001b[0m\n\u001b[0m\u001b[1;32m   1236\u001b[0m                     \u001b[0;32mif\u001b[0m \u001b[0;32mnot\u001b[0m \u001b[0misinstance\u001b[0m\u001b[0;34m(\u001b[0m\u001b[0mouts\u001b[0m\u001b[0;34m,\u001b[0m \u001b[0mlist\u001b[0m\u001b[0;34m)\u001b[0m\u001b[0;34m:\u001b[0m\u001b[0;34m\u001b[0m\u001b[0m\n\u001b[1;32m   1237\u001b[0m                         \u001b[0mouts\u001b[0m \u001b[0;34m=\u001b[0m \u001b[0;34m[\u001b[0m\u001b[0mouts\u001b[0m\u001b[0;34m]\u001b[0m\u001b[0;34m\u001b[0m\u001b[0m\n",
      "\u001b[0;32m/usr/local/lib/python3.5/dist-packages/keras/backend/tensorflow_backend.py\u001b[0m in \u001b[0;36m__call__\u001b[0;34m(self, inputs)\u001b[0m\n\u001b[1;32m   2476\u001b[0m         \u001b[0msession\u001b[0m \u001b[0;34m=\u001b[0m \u001b[0mget_session\u001b[0m\u001b[0;34m(\u001b[0m\u001b[0;34m)\u001b[0m\u001b[0;34m\u001b[0m\u001b[0m\n\u001b[1;32m   2477\u001b[0m         updated = session.run(fetches=fetches, feed_dict=feed_dict,\n\u001b[0;32m-> 2478\u001b[0;31m                               **self.session_kwargs)\n\u001b[0m\u001b[1;32m   2479\u001b[0m         \u001b[0;32mreturn\u001b[0m \u001b[0mupdated\u001b[0m\u001b[0;34m[\u001b[0m\u001b[0;34m:\u001b[0m\u001b[0mlen\u001b[0m\u001b[0;34m(\u001b[0m\u001b[0mself\u001b[0m\u001b[0;34m.\u001b[0m\u001b[0moutputs\u001b[0m\u001b[0;34m)\u001b[0m\u001b[0;34m]\u001b[0m\u001b[0;34m\u001b[0m\u001b[0m\n\u001b[1;32m   2480\u001b[0m \u001b[0;34m\u001b[0m\u001b[0m\n",
      "\u001b[0;32m/usr/local/lib/python3.5/dist-packages/tensorflow/python/client/session.py\u001b[0m in \u001b[0;36mrun\u001b[0;34m(self, fetches, feed_dict, options, run_metadata)\u001b[0m\n\u001b[1;32m    893\u001b[0m     \u001b[0;32mtry\u001b[0m\u001b[0;34m:\u001b[0m\u001b[0;34m\u001b[0m\u001b[0m\n\u001b[1;32m    894\u001b[0m       result = self._run(None, fetches, feed_dict, options_ptr,\n\u001b[0;32m--> 895\u001b[0;31m                          run_metadata_ptr)\n\u001b[0m\u001b[1;32m    896\u001b[0m       \u001b[0;32mif\u001b[0m \u001b[0mrun_metadata\u001b[0m\u001b[0;34m:\u001b[0m\u001b[0;34m\u001b[0m\u001b[0m\n\u001b[1;32m    897\u001b[0m         \u001b[0mproto_data\u001b[0m \u001b[0;34m=\u001b[0m \u001b[0mtf_session\u001b[0m\u001b[0;34m.\u001b[0m\u001b[0mTF_GetBuffer\u001b[0m\u001b[0;34m(\u001b[0m\u001b[0mrun_metadata_ptr\u001b[0m\u001b[0;34m)\u001b[0m\u001b[0;34m\u001b[0m\u001b[0m\n",
      "\u001b[0;32m/usr/local/lib/python3.5/dist-packages/tensorflow/python/client/session.py\u001b[0m in \u001b[0;36m_run\u001b[0;34m(self, handle, fetches, feed_dict, options, run_metadata)\u001b[0m\n\u001b[1;32m   1122\u001b[0m     \u001b[0;32mif\u001b[0m \u001b[0mfinal_fetches\u001b[0m \u001b[0;32mor\u001b[0m \u001b[0mfinal_targets\u001b[0m \u001b[0;32mor\u001b[0m \u001b[0;34m(\u001b[0m\u001b[0mhandle\u001b[0m \u001b[0;32mand\u001b[0m \u001b[0mfeed_dict_tensor\u001b[0m\u001b[0;34m)\u001b[0m\u001b[0;34m:\u001b[0m\u001b[0;34m\u001b[0m\u001b[0m\n\u001b[1;32m   1123\u001b[0m       results = self._do_run(handle, final_targets, final_fetches,\n\u001b[0;32m-> 1124\u001b[0;31m                              feed_dict_tensor, options, run_metadata)\n\u001b[0m\u001b[1;32m   1125\u001b[0m     \u001b[0;32melse\u001b[0m\u001b[0;34m:\u001b[0m\u001b[0;34m\u001b[0m\u001b[0m\n\u001b[1;32m   1126\u001b[0m       \u001b[0mresults\u001b[0m \u001b[0;34m=\u001b[0m \u001b[0;34m[\u001b[0m\u001b[0;34m]\u001b[0m\u001b[0;34m\u001b[0m\u001b[0m\n",
      "\u001b[0;32m/usr/local/lib/python3.5/dist-packages/tensorflow/python/client/session.py\u001b[0m in \u001b[0;36m_do_run\u001b[0;34m(self, handle, target_list, fetch_list, feed_dict, options, run_metadata)\u001b[0m\n\u001b[1;32m   1319\u001b[0m     \u001b[0;32mif\u001b[0m \u001b[0mhandle\u001b[0m \u001b[0;32mis\u001b[0m \u001b[0;32mNone\u001b[0m\u001b[0;34m:\u001b[0m\u001b[0;34m\u001b[0m\u001b[0m\n\u001b[1;32m   1320\u001b[0m       return self._do_call(_run_fn, self._session, feeds, fetches, targets,\n\u001b[0;32m-> 1321\u001b[0;31m                            options, run_metadata)\n\u001b[0m\u001b[1;32m   1322\u001b[0m     \u001b[0;32melse\u001b[0m\u001b[0;34m:\u001b[0m\u001b[0;34m\u001b[0m\u001b[0m\n\u001b[1;32m   1323\u001b[0m       \u001b[0;32mreturn\u001b[0m \u001b[0mself\u001b[0m\u001b[0;34m.\u001b[0m\u001b[0m_do_call\u001b[0m\u001b[0;34m(\u001b[0m\u001b[0m_prun_fn\u001b[0m\u001b[0;34m,\u001b[0m \u001b[0mself\u001b[0m\u001b[0;34m.\u001b[0m\u001b[0m_session\u001b[0m\u001b[0;34m,\u001b[0m \u001b[0mhandle\u001b[0m\u001b[0;34m,\u001b[0m \u001b[0mfeeds\u001b[0m\u001b[0;34m,\u001b[0m \u001b[0mfetches\u001b[0m\u001b[0;34m)\u001b[0m\u001b[0;34m\u001b[0m\u001b[0m\n",
      "\u001b[0;32m/usr/local/lib/python3.5/dist-packages/tensorflow/python/client/session.py\u001b[0m in \u001b[0;36m_do_call\u001b[0;34m(self, fn, *args)\u001b[0m\n\u001b[1;32m   1325\u001b[0m   \u001b[0;32mdef\u001b[0m \u001b[0m_do_call\u001b[0m\u001b[0;34m(\u001b[0m\u001b[0mself\u001b[0m\u001b[0;34m,\u001b[0m \u001b[0mfn\u001b[0m\u001b[0;34m,\u001b[0m \u001b[0;34m*\u001b[0m\u001b[0margs\u001b[0m\u001b[0;34m)\u001b[0m\u001b[0;34m:\u001b[0m\u001b[0;34m\u001b[0m\u001b[0m\n\u001b[1;32m   1326\u001b[0m     \u001b[0;32mtry\u001b[0m\u001b[0;34m:\u001b[0m\u001b[0;34m\u001b[0m\u001b[0m\n\u001b[0;32m-> 1327\u001b[0;31m       \u001b[0;32mreturn\u001b[0m \u001b[0mfn\u001b[0m\u001b[0;34m(\u001b[0m\u001b[0;34m*\u001b[0m\u001b[0margs\u001b[0m\u001b[0;34m)\u001b[0m\u001b[0;34m\u001b[0m\u001b[0m\n\u001b[0m\u001b[1;32m   1328\u001b[0m     \u001b[0;32mexcept\u001b[0m \u001b[0merrors\u001b[0m\u001b[0;34m.\u001b[0m\u001b[0mOpError\u001b[0m \u001b[0;32mas\u001b[0m \u001b[0me\u001b[0m\u001b[0;34m:\u001b[0m\u001b[0;34m\u001b[0m\u001b[0m\n\u001b[1;32m   1329\u001b[0m       \u001b[0mmessage\u001b[0m \u001b[0;34m=\u001b[0m \u001b[0mcompat\u001b[0m\u001b[0;34m.\u001b[0m\u001b[0mas_text\u001b[0m\u001b[0;34m(\u001b[0m\u001b[0me\u001b[0m\u001b[0;34m.\u001b[0m\u001b[0mmessage\u001b[0m\u001b[0;34m)\u001b[0m\u001b[0;34m\u001b[0m\u001b[0m\n",
      "\u001b[0;32m/usr/local/lib/python3.5/dist-packages/tensorflow/python/client/session.py\u001b[0m in \u001b[0;36m_run_fn\u001b[0;34m(session, feed_dict, fetch_list, target_list, options, run_metadata)\u001b[0m\n\u001b[1;32m   1304\u001b[0m           return tf_session.TF_Run(session, options,\n\u001b[1;32m   1305\u001b[0m                                    \u001b[0mfeed_dict\u001b[0m\u001b[0;34m,\u001b[0m \u001b[0mfetch_list\u001b[0m\u001b[0;34m,\u001b[0m \u001b[0mtarget_list\u001b[0m\u001b[0;34m,\u001b[0m\u001b[0;34m\u001b[0m\u001b[0m\n\u001b[0;32m-> 1306\u001b[0;31m                                    status, run_metadata)\n\u001b[0m\u001b[1;32m   1307\u001b[0m \u001b[0;34m\u001b[0m\u001b[0m\n\u001b[1;32m   1308\u001b[0m     \u001b[0;32mdef\u001b[0m \u001b[0m_prun_fn\u001b[0m\u001b[0;34m(\u001b[0m\u001b[0msession\u001b[0m\u001b[0;34m,\u001b[0m \u001b[0mhandle\u001b[0m\u001b[0;34m,\u001b[0m \u001b[0mfeed_dict\u001b[0m\u001b[0;34m,\u001b[0m \u001b[0mfetch_list\u001b[0m\u001b[0;34m)\u001b[0m\u001b[0;34m:\u001b[0m\u001b[0;34m\u001b[0m\u001b[0m\n",
      "\u001b[0;31mKeyboardInterrupt\u001b[0m: "
     ]
    }
   ],
   "source": [
    "# train model\n",
    "model.compile(loss='binary_crossentropy', optimizer='rmsprop', metrics=['accuracy'])\n",
    "model.fit(X_train, y_train,\n",
    "          batch_size=batch_size,\n",
    "          epochs=nb_epoch,\n",
    "          validation_data=(X_test, y_test),)\n",
    "# acc = accuracy(y_test,\n",
    "#                np.round(np.array(model.predict({'input': X_test},\n",
    "#                                                batch_size=batch_size)['output'])))\n",
    "# print('Test accuracy:', acc)"
   ]
  },
  {
   "cell_type": "markdown",
   "metadata": {},
   "source": [
    "Можно взять несколько отзывов"
   ]
  },
  {
   "cell_type": "code",
   "execution_count": 263,
   "metadata": {},
   "outputs": [],
   "source": [
    "train_wine_colors = {}"
   ]
  },
  {
   "cell_type": "code",
   "execution_count": 267,
   "metadata": {},
   "outputs": [
    {
     "data": {
      "text/plain": [
       "{'Anjou': 'Red',\n",
       " 'CabernetSauvignon': 'Red',\n",
       " 'Chardonnay': 'White',\n",
       " 'CheninBlanc': 'White',\n",
       " 'Chianti': 'Red',\n",
       " 'DessertWine': 'White',\n",
       " 'DryRedWine': 'Red',\n",
       " 'EarlyHarvest': 'Red',\n",
       " 'FrenchWine': 'Red',\n",
       " 'Gamay': 'Red',\n",
       " 'ItalianWine': 'Red',\n",
       " 'Loire': 'White',\n",
       " 'Margaux': 'Red',\n",
       " 'Muscadet': 'White',\n",
       " 'PetiteSyrah': 'Red',\n",
       " 'RedBordeaux': 'Red',\n",
       " 'Riesling': 'White',\n",
       " 'SemillonOrSauvignonBlanc': 'White',\n",
       " 'StEmilion': 'Red',\n",
       " 'SweetRiesling': 'White',\n",
       " 'TexasWine': 'Red',\n",
       " 'Tours': 'Red',\n",
       " 'WhiteBordeaux': 'White'}"
      ]
     },
     "execution_count": 267,
     "metadata": {},
     "output_type": "execute_result"
    }
   ],
   "source": [
    "train_wine_colors"
   ]
  },
  {
   "cell_type": "code",
   "execution_count": 264,
   "metadata": {},
   "outputs": [],
   "source": [
    "for w in train_wines:\n",
    "    wine_reviews = reviews[reviews[\"wine_from_ontology\"] == w][\"filtered_description\"][0:5]\n",
    "    wine_reviews_texts = [[get_word_index(w) for w in text] for text in wine_reviews]\n",
    "    wine_reviews_padded_texts = sequence.pad_sequences(wine_reviews_texts, maxlen=maxlen)\n",
    "    train_wine_colors[w] = [\"Red\", \"White\", \"Rose\"][np.argmax(model.predict(wine_reviews_padded_texts).mean(axis=0))]"
   ]
  },
  {
   "cell_type": "code",
   "execution_count": 265,
   "metadata": {},
   "outputs": [],
   "source": [
    "test_wine_colors = {}"
   ]
  },
  {
   "cell_type": "code",
   "execution_count": 268,
   "metadata": {},
   "outputs": [
    {
     "data": {
      "text/plain": [
       "{'AlsatianWine': 'White',\n",
       " 'AmericanWine': 'Red',\n",
       " 'Beaujolais': 'Red',\n",
       " 'Bordeaux': 'White',\n",
       " 'Burgundy': 'White',\n",
       " 'CabernetFranc': 'Red',\n",
       " 'CaliforniaWine': 'Red',\n",
       " 'CotesDOr': 'White',\n",
       " 'DryRiesling': 'White',\n",
       " 'DryWhiteWine': 'White',\n",
       " 'DryWine': 'White',\n",
       " 'GermanWine': 'White',\n",
       " 'IceWine': 'White',\n",
       " 'LateHarvest': 'White',\n",
       " 'Meritage': 'Red',\n",
       " 'Merlot': 'Red',\n",
       " 'Meursault': 'White',\n",
       " 'Pauillac': 'Red',\n",
       " 'PinotBlanc': 'White',\n",
       " 'PinotNoir': 'Red',\n",
       " 'Port': 'Red',\n",
       " 'RedBurgundy': 'Red',\n",
       " 'RedTableWine': 'Red',\n",
       " 'RedWine': 'Red',\n",
       " 'RoseWine': 'Red',\n",
       " 'Sancerre': 'White',\n",
       " 'Sauternes': 'White',\n",
       " 'SauvignonBlanc': 'White',\n",
       " 'Semillon': 'White',\n",
       " 'SweetWine': 'White',\n",
       " 'TableWine': 'Red',\n",
       " 'WhiteLoire': 'White',\n",
       " 'WhiteNonSweetWine': 'White',\n",
       " 'WhiteWine': 'Red',\n",
       " 'Zinfandel': 'Red'}"
      ]
     },
     "execution_count": 268,
     "metadata": {},
     "output_type": "execute_result"
    }
   ],
   "source": [
    "test_wine_colors"
   ]
  },
  {
   "cell_type": "code",
   "execution_count": 266,
   "metadata": {},
   "outputs": [],
   "source": [
    "for w in test[\"wine_from_ontology\"].unique():\n",
    "    wine_reviews = reviews[reviews[\"wine_from_ontology\"] == w][\"filtered_description\"][0:5]\n",
    "    wine_reviews_texts = [[get_word_index(w) for w in text] for text in wine_reviews]\n",
    "    wine_reviews_padded_texts = sequence.pad_sequences(wine_reviews_texts, maxlen=maxlen)\n",
    "    test_wine_colors[w] = [\"Red\", \"White\", \"Rose\"][np.argmax(model.predict(wine_reviews_padded_texts).mean(axis=0))]"
   ]
  },
  {
   "cell_type": "code",
   "execution_count": 245,
   "metadata": {},
   "outputs": [
    {
     "ename": "KeyboardInterrupt",
     "evalue": "",
     "output_type": "error",
     "traceback": [
      "\u001b[0;31m---------------------------------------------------------------------------\u001b[0m",
      "\u001b[0;31mKeyboardInterrupt\u001b[0m                         Traceback (most recent call last)",
      "\u001b[0;32m<ipython-input-245-269488dedf01>\u001b[0m in \u001b[0;36m<module>\u001b[0;34m()\u001b[0m\n\u001b[0;32m----> 1\u001b[0;31m \u001b[0mtrain_answers\u001b[0m \u001b[0;34m=\u001b[0m \u001b[0mmodel\u001b[0m\u001b[0;34m.\u001b[0m\u001b[0mpredict\u001b[0m\u001b[0;34m(\u001b[0m\u001b[0mX_train\u001b[0m\u001b[0;34m)\u001b[0m\u001b[0;34m\u001b[0m\u001b[0m\n\u001b[0m",
      "\u001b[0;32m/usr/local/lib/python3.5/dist-packages/keras/engine/training.py\u001b[0m in \u001b[0;36mpredict\u001b[0;34m(self, x, batch_size, verbose, steps)\u001b[0m\n\u001b[1;32m   1833\u001b[0m         \u001b[0mf\u001b[0m \u001b[0;34m=\u001b[0m \u001b[0mself\u001b[0m\u001b[0;34m.\u001b[0m\u001b[0mpredict_function\u001b[0m\u001b[0;34m\u001b[0m\u001b[0m\n\u001b[1;32m   1834\u001b[0m         return self._predict_loop(f, ins, batch_size=batch_size,\n\u001b[0;32m-> 1835\u001b[0;31m                                   verbose=verbose, steps=steps)\n\u001b[0m\u001b[1;32m   1836\u001b[0m \u001b[0;34m\u001b[0m\u001b[0m\n\u001b[1;32m   1837\u001b[0m     def train_on_batch(self, x, y,\n",
      "\u001b[0;32m/usr/local/lib/python3.5/dist-packages/keras/engine/training.py\u001b[0m in \u001b[0;36m_predict_loop\u001b[0;34m(self, f, ins, batch_size, verbose, steps)\u001b[0m\n\u001b[1;32m   1328\u001b[0m                     \u001b[0mins_batch\u001b[0m\u001b[0;34m[\u001b[0m\u001b[0mi\u001b[0m\u001b[0;34m]\u001b[0m \u001b[0;34m=\u001b[0m \u001b[0mins_batch\u001b[0m\u001b[0;34m[\u001b[0m\u001b[0mi\u001b[0m\u001b[0;34m]\u001b[0m\u001b[0;34m.\u001b[0m\u001b[0mtoarray\u001b[0m\u001b[0;34m(\u001b[0m\u001b[0;34m)\u001b[0m\u001b[0;34m\u001b[0m\u001b[0m\n\u001b[1;32m   1329\u001b[0m \u001b[0;34m\u001b[0m\u001b[0m\n\u001b[0;32m-> 1330\u001b[0;31m                 \u001b[0mbatch_outs\u001b[0m \u001b[0;34m=\u001b[0m \u001b[0mf\u001b[0m\u001b[0;34m(\u001b[0m\u001b[0mins_batch\u001b[0m\u001b[0;34m)\u001b[0m\u001b[0;34m\u001b[0m\u001b[0m\n\u001b[0m\u001b[1;32m   1331\u001b[0m                 \u001b[0;32mif\u001b[0m \u001b[0;32mnot\u001b[0m \u001b[0misinstance\u001b[0m\u001b[0;34m(\u001b[0m\u001b[0mbatch_outs\u001b[0m\u001b[0;34m,\u001b[0m \u001b[0mlist\u001b[0m\u001b[0;34m)\u001b[0m\u001b[0;34m:\u001b[0m\u001b[0;34m\u001b[0m\u001b[0m\n\u001b[1;32m   1332\u001b[0m                     \u001b[0mbatch_outs\u001b[0m \u001b[0;34m=\u001b[0m \u001b[0;34m[\u001b[0m\u001b[0mbatch_outs\u001b[0m\u001b[0;34m]\u001b[0m\u001b[0;34m\u001b[0m\u001b[0m\n",
      "\u001b[0;32m/usr/local/lib/python3.5/dist-packages/keras/backend/tensorflow_backend.py\u001b[0m in \u001b[0;36m__call__\u001b[0;34m(self, inputs)\u001b[0m\n\u001b[1;32m   2476\u001b[0m         \u001b[0msession\u001b[0m \u001b[0;34m=\u001b[0m \u001b[0mget_session\u001b[0m\u001b[0;34m(\u001b[0m\u001b[0;34m)\u001b[0m\u001b[0;34m\u001b[0m\u001b[0m\n\u001b[1;32m   2477\u001b[0m         updated = session.run(fetches=fetches, feed_dict=feed_dict,\n\u001b[0;32m-> 2478\u001b[0;31m                               **self.session_kwargs)\n\u001b[0m\u001b[1;32m   2479\u001b[0m         \u001b[0;32mreturn\u001b[0m \u001b[0mupdated\u001b[0m\u001b[0;34m[\u001b[0m\u001b[0;34m:\u001b[0m\u001b[0mlen\u001b[0m\u001b[0;34m(\u001b[0m\u001b[0mself\u001b[0m\u001b[0;34m.\u001b[0m\u001b[0moutputs\u001b[0m\u001b[0;34m)\u001b[0m\u001b[0;34m]\u001b[0m\u001b[0;34m\u001b[0m\u001b[0m\n\u001b[1;32m   2480\u001b[0m \u001b[0;34m\u001b[0m\u001b[0m\n",
      "\u001b[0;32m/usr/local/lib/python3.5/dist-packages/tensorflow/python/client/session.py\u001b[0m in \u001b[0;36mrun\u001b[0;34m(self, fetches, feed_dict, options, run_metadata)\u001b[0m\n\u001b[1;32m    893\u001b[0m     \u001b[0;32mtry\u001b[0m\u001b[0;34m:\u001b[0m\u001b[0;34m\u001b[0m\u001b[0m\n\u001b[1;32m    894\u001b[0m       result = self._run(None, fetches, feed_dict, options_ptr,\n\u001b[0;32m--> 895\u001b[0;31m                          run_metadata_ptr)\n\u001b[0m\u001b[1;32m    896\u001b[0m       \u001b[0;32mif\u001b[0m \u001b[0mrun_metadata\u001b[0m\u001b[0;34m:\u001b[0m\u001b[0;34m\u001b[0m\u001b[0m\n\u001b[1;32m    897\u001b[0m         \u001b[0mproto_data\u001b[0m \u001b[0;34m=\u001b[0m \u001b[0mtf_session\u001b[0m\u001b[0;34m.\u001b[0m\u001b[0mTF_GetBuffer\u001b[0m\u001b[0;34m(\u001b[0m\u001b[0mrun_metadata_ptr\u001b[0m\u001b[0;34m)\u001b[0m\u001b[0;34m\u001b[0m\u001b[0m\n",
      "\u001b[0;32m/usr/local/lib/python3.5/dist-packages/tensorflow/python/client/session.py\u001b[0m in \u001b[0;36m_run\u001b[0;34m(self, handle, fetches, feed_dict, options, run_metadata)\u001b[0m\n\u001b[1;32m   1122\u001b[0m     \u001b[0;32mif\u001b[0m \u001b[0mfinal_fetches\u001b[0m \u001b[0;32mor\u001b[0m \u001b[0mfinal_targets\u001b[0m \u001b[0;32mor\u001b[0m \u001b[0;34m(\u001b[0m\u001b[0mhandle\u001b[0m \u001b[0;32mand\u001b[0m \u001b[0mfeed_dict_tensor\u001b[0m\u001b[0;34m)\u001b[0m\u001b[0;34m:\u001b[0m\u001b[0;34m\u001b[0m\u001b[0m\n\u001b[1;32m   1123\u001b[0m       results = self._do_run(handle, final_targets, final_fetches,\n\u001b[0;32m-> 1124\u001b[0;31m                              feed_dict_tensor, options, run_metadata)\n\u001b[0m\u001b[1;32m   1125\u001b[0m     \u001b[0;32melse\u001b[0m\u001b[0;34m:\u001b[0m\u001b[0;34m\u001b[0m\u001b[0m\n\u001b[1;32m   1126\u001b[0m       \u001b[0mresults\u001b[0m \u001b[0;34m=\u001b[0m \u001b[0;34m[\u001b[0m\u001b[0;34m]\u001b[0m\u001b[0;34m\u001b[0m\u001b[0m\n",
      "\u001b[0;32m/usr/local/lib/python3.5/dist-packages/tensorflow/python/client/session.py\u001b[0m in \u001b[0;36m_do_run\u001b[0;34m(self, handle, target_list, fetch_list, feed_dict, options, run_metadata)\u001b[0m\n\u001b[1;32m   1319\u001b[0m     \u001b[0;32mif\u001b[0m \u001b[0mhandle\u001b[0m \u001b[0;32mis\u001b[0m \u001b[0;32mNone\u001b[0m\u001b[0;34m:\u001b[0m\u001b[0;34m\u001b[0m\u001b[0m\n\u001b[1;32m   1320\u001b[0m       return self._do_call(_run_fn, self._session, feeds, fetches, targets,\n\u001b[0;32m-> 1321\u001b[0;31m                            options, run_metadata)\n\u001b[0m\u001b[1;32m   1322\u001b[0m     \u001b[0;32melse\u001b[0m\u001b[0;34m:\u001b[0m\u001b[0;34m\u001b[0m\u001b[0m\n\u001b[1;32m   1323\u001b[0m       \u001b[0;32mreturn\u001b[0m \u001b[0mself\u001b[0m\u001b[0;34m.\u001b[0m\u001b[0m_do_call\u001b[0m\u001b[0;34m(\u001b[0m\u001b[0m_prun_fn\u001b[0m\u001b[0;34m,\u001b[0m \u001b[0mself\u001b[0m\u001b[0;34m.\u001b[0m\u001b[0m_session\u001b[0m\u001b[0;34m,\u001b[0m \u001b[0mhandle\u001b[0m\u001b[0;34m,\u001b[0m \u001b[0mfeeds\u001b[0m\u001b[0;34m,\u001b[0m \u001b[0mfetches\u001b[0m\u001b[0;34m)\u001b[0m\u001b[0;34m\u001b[0m\u001b[0m\n",
      "\u001b[0;32m/usr/local/lib/python3.5/dist-packages/tensorflow/python/client/session.py\u001b[0m in \u001b[0;36m_do_call\u001b[0;34m(self, fn, *args)\u001b[0m\n\u001b[1;32m   1325\u001b[0m   \u001b[0;32mdef\u001b[0m \u001b[0m_do_call\u001b[0m\u001b[0;34m(\u001b[0m\u001b[0mself\u001b[0m\u001b[0;34m,\u001b[0m \u001b[0mfn\u001b[0m\u001b[0;34m,\u001b[0m \u001b[0;34m*\u001b[0m\u001b[0margs\u001b[0m\u001b[0;34m)\u001b[0m\u001b[0;34m:\u001b[0m\u001b[0;34m\u001b[0m\u001b[0m\n\u001b[1;32m   1326\u001b[0m     \u001b[0;32mtry\u001b[0m\u001b[0;34m:\u001b[0m\u001b[0;34m\u001b[0m\u001b[0m\n\u001b[0;32m-> 1327\u001b[0;31m       \u001b[0;32mreturn\u001b[0m \u001b[0mfn\u001b[0m\u001b[0;34m(\u001b[0m\u001b[0;34m*\u001b[0m\u001b[0margs\u001b[0m\u001b[0;34m)\u001b[0m\u001b[0;34m\u001b[0m\u001b[0m\n\u001b[0m\u001b[1;32m   1328\u001b[0m     \u001b[0;32mexcept\u001b[0m \u001b[0merrors\u001b[0m\u001b[0;34m.\u001b[0m\u001b[0mOpError\u001b[0m \u001b[0;32mas\u001b[0m \u001b[0me\u001b[0m\u001b[0;34m:\u001b[0m\u001b[0;34m\u001b[0m\u001b[0m\n\u001b[1;32m   1329\u001b[0m       \u001b[0mmessage\u001b[0m \u001b[0;34m=\u001b[0m \u001b[0mcompat\u001b[0m\u001b[0;34m.\u001b[0m\u001b[0mas_text\u001b[0m\u001b[0;34m(\u001b[0m\u001b[0me\u001b[0m\u001b[0;34m.\u001b[0m\u001b[0mmessage\u001b[0m\u001b[0;34m)\u001b[0m\u001b[0;34m\u001b[0m\u001b[0m\n",
      "\u001b[0;32m/usr/local/lib/python3.5/dist-packages/tensorflow/python/client/session.py\u001b[0m in \u001b[0;36m_run_fn\u001b[0;34m(session, feed_dict, fetch_list, target_list, options, run_metadata)\u001b[0m\n\u001b[1;32m   1304\u001b[0m           return tf_session.TF_Run(session, options,\n\u001b[1;32m   1305\u001b[0m                                    \u001b[0mfeed_dict\u001b[0m\u001b[0;34m,\u001b[0m \u001b[0mfetch_list\u001b[0m\u001b[0;34m,\u001b[0m \u001b[0mtarget_list\u001b[0m\u001b[0;34m,\u001b[0m\u001b[0;34m\u001b[0m\u001b[0m\n\u001b[0;32m-> 1306\u001b[0;31m                                    status, run_metadata)\n\u001b[0m\u001b[1;32m   1307\u001b[0m \u001b[0;34m\u001b[0m\u001b[0m\n\u001b[1;32m   1308\u001b[0m     \u001b[0;32mdef\u001b[0m \u001b[0m_prun_fn\u001b[0m\u001b[0;34m(\u001b[0m\u001b[0msession\u001b[0m\u001b[0;34m,\u001b[0m \u001b[0mhandle\u001b[0m\u001b[0;34m,\u001b[0m \u001b[0mfeed_dict\u001b[0m\u001b[0;34m,\u001b[0m \u001b[0mfetch_list\u001b[0m\u001b[0;34m)\u001b[0m\u001b[0;34m:\u001b[0m\u001b[0;34m\u001b[0m\u001b[0m\n",
      "\u001b[0;31mKeyboardInterrupt\u001b[0m: "
     ]
    }
   ],
   "source": [
    "train_answers = model.predict(X_train)"
   ]
  },
  {
   "cell_type": "code",
   "execution_count": null,
   "metadata": {},
   "outputs": [],
   "source": [
    "test_answers = model.predict(X_test)"
   ]
  },
  {
   "cell_type": "code",
   "execution_count": 98,
   "metadata": {},
   "outputs": [],
   "source": [
    "padded_X = sequence.pad_sequences(X, maxlen=maxlen)"
   ]
  },
  {
   "cell_type": "code",
   "execution_count": null,
   "metadata": {},
   "outputs": [],
   "source": [
    "predicted_y = model.predict(X_test)"
   ]
  },
  {
   "cell_type": "code",
   "execution_count": null,
   "metadata": {},
   "outputs": [],
   "source": [
    "answers = np.array([\"Red\", \"White\", \"Rose\"])[np.argmax(predicted_y, axis=1)]"
   ]
  },
  {
   "cell_type": "code",
   "execution_count": null,
   "metadata": {},
   "outputs": [],
   "source": [
    "answers"
   ]
  },
  {
   "cell_type": "code",
   "execution_count": 246,
   "metadata": {},
   "outputs": [],
   "source": [
    "model.save('color_classification2.h5')"
   ]
  },
  {
   "cell_type": "markdown",
   "metadata": {},
   "source": [
    "Признаки, связанные с ароматом"
   ]
  },
  {
   "cell_type": "markdown",
   "metadata": {},
   "source": [
    "# Создать онтологию на основе полученной модели"
   ]
  },
  {
   "cell_type": "code",
   "execution_count": 54,
   "metadata": {},
   "outputs": [],
   "source": [
    "whitelist_features = [\"hasBody\", \"hasSugar\", \"hasFlavor\", \"hasColor\", \"madeFromGrape\", 'locatedIn', 'hasMaker']\n",
    "def find_features(graph, class_name, parent_name):\n",
    "    features = {}\n",
    "    for s, p, o in graph:\n",
    "        selected_class = str(s).split(\"#\")[-1]\n",
    "        selected_feature = str(p).split(\"#\")[-1]\n",
    "        if ((class_name == selected_class) and (selected_feature in whitelist_features)):\n",
    "            features[selected_feature] = str(o).split(\"#\")[-1]\n",
    "    features['parent'] = parent_name\n",
    "    features['new'] = True\n",
    "    return features\n",
    "\n",
    "def find_instances(graph, class_name):\n",
    "    instances = []\n",
    "    for s, p, o in graph:\n",
    "        selected_class = str(o).split(\"#\")[-1]\n",
    "        selected_feature = str(p).split(\"#\")[-1]\n",
    "        if ((class_name == selected_class) and (selected_feature == \"type\")):\n",
    "            instances.append(str(s).split(\"#\")[-1])\n",
    "    return instances"
   ]
  },
  {
   "cell_type": "code",
   "execution_count": 55,
   "metadata": {},
   "outputs": [],
   "source": [
    "instances = {}"
   ]
  },
  {
   "cell_type": "code",
   "execution_count": 56,
   "metadata": {},
   "outputs": [],
   "source": [
    "for k, v in start_ontology.items():\n",
    "    instances[k] = v"
   ]
  },
  {
   "cell_type": "code",
   "execution_count": 57,
   "metadata": {},
   "outputs": [],
   "source": [
    "error_features = ['madeFromGrape', 'locatedIn', 'hasMaker']\n",
    "def preprocess_instance(instance):\n",
    "    if \"new\" in instance.keys():\n",
    "        for feature in error_features:\n",
    "            if feature in instance.keys():\n",
    "                instance[feature] = \" \".join([inflection.titleize(w) for w in inflection.underscore(instance[feature].replace(\"Region\", \"\")).split(\"_\")])"
   ]
  },
  {
   "cell_type": "code",
   "execution_count": 58,
   "metadata": {},
   "outputs": [],
   "source": [
    "for k, i in instances.items():\n",
    "    preprocess_instance(i)"
   ]
  },
  {
   "cell_type": "markdown",
   "metadata": {},
   "source": [
    "- Обработка массива родителей\n",
    "    - Пропагейт по каждому\n",
    "    - Каждому увеличиваем вложенность\n",
    "- Обработка массива признаков\n",
    "    - Матчинг: \n",
    "        - Сорт винограда - обычный матчинг\n",
    "        - Регион - страна, провинция, регион1, регион2\n",
    "        - Винодельная - обычный матчинг\n",
    "    - Параметры выборки: выбираем случайный признак"
   ]
  },
  {
   "cell_type": "code",
   "execution_count": 59,
   "metadata": {},
   "outputs": [],
   "source": [
    "# Проп\n",
    "    # Если есть уровень вложенности - пропускаем\n",
    "    # Для каждого родителя\n",
    "        # Вызываем проп\n",
    "        # Копируем свойства\n",
    "        # Увеличиваем уровень вложенности\n",
    "\n",
    "def propagate_features(instance, instances):\n",
    "#     if not \"level\" in instance.keys():\n",
    "    instance[\"level\"] = 0\n",
    "    parents = []\n",
    "    if 'parent' in instance.keys():\n",
    "        parents = instance['parent']\n",
    "    if type(parents) is not list:\n",
    "        parents = [parents]\n",
    "    for p in parents:\n",
    "        if p is not \"wine\":\n",
    "            propagate_features(instances[p], instances)\n",
    "            for k, v in instances[p].items():\n",
    "                if k not in instance.keys():\n",
    "                    instance[k] = instances[p][k]\n",
    "            instance['level'] = max(instance['level'], instances[p]['level'] + 1)"
   ]
  },
  {
   "cell_type": "code",
   "execution_count": 60,
   "metadata": {},
   "outputs": [],
   "source": [
    "# Для каждого узла\n",
    "    # Вызываем проп\n",
    "for k, v in instances.items():\n",
    "    propagate_features(v, instances)"
   ]
  },
  {
   "cell_type": "code",
   "execution_count": 61,
   "metadata": {},
   "outputs": [],
   "source": [
    "for k, v in instances.items():\n",
    "    if 'madeFromGrape' in v.keys():\n",
    "        if type(v['madeFromGrape']) is list:\n",
    "            v['madeFromGrape'] = set(v['madeFromGrape'])"
   ]
  },
  {
   "cell_type": "code",
   "execution_count": 62,
   "metadata": {},
   "outputs": [],
   "source": [
    "for k, v in instances.items():\n",
    "    v['name_array'] = inflection.underscore(k).split(\"_\")"
   ]
  },
  {
   "cell_type": "code",
   "execution_count": 63,
   "metadata": {
    "scrolled": true
   },
   "outputs": [
    {
     "name": "stderr",
     "output_type": "stream",
     "text": [
      "  0%|          | 0/129971 [00:00<?, ?it/s]\n"
     ]
    },
    {
     "ename": "NameError",
     "evalue": "name 'jaccard' is not defined",
     "output_type": "error",
     "traceback": [
      "\u001b[0;31m---------------------------------------------------------------------------\u001b[0m",
      "\u001b[0;31mNameError\u001b[0m                                 Traceback (most recent call last)",
      "\u001b[0;32m<ipython-input-63-03ed873fd3c7>\u001b[0m in \u001b[0;36m<module>\u001b[0;34m()\u001b[0m\n\u001b[1;32m     34\u001b[0m     \u001b[0mlevels\u001b[0m \u001b[0;34m=\u001b[0m \u001b[0;34m[\u001b[0m\u001b[0;34m]\u001b[0m\u001b[0;34m\u001b[0m\u001b[0m\n\u001b[1;32m     35\u001b[0m     \u001b[0;32mfor\u001b[0m \u001b[0mk\u001b[0m\u001b[0;34m,\u001b[0m \u001b[0mv\u001b[0m \u001b[0;32min\u001b[0m \u001b[0minstances\u001b[0m\u001b[0;34m.\u001b[0m\u001b[0mitems\u001b[0m\u001b[0;34m(\u001b[0m\u001b[0;34m)\u001b[0m\u001b[0;34m:\u001b[0m\u001b[0;34m\u001b[0m\u001b[0m\n\u001b[0;32m---> 36\u001b[0;31m         \u001b[0mpoints\u001b[0m \u001b[0;34m=\u001b[0m \u001b[0mcompare_variety\u001b[0m\u001b[0;34m(\u001b[0m\u001b[0mv\u001b[0m\u001b[0;34m,\u001b[0m \u001b[0mr\u001b[0m\u001b[0;34m)\u001b[0m \u001b[0;34m+\u001b[0m \u001b[0mcompare_region\u001b[0m\u001b[0;34m(\u001b[0m\u001b[0mv\u001b[0m\u001b[0;34m,\u001b[0m \u001b[0mr\u001b[0m\u001b[0;34m)\u001b[0m \u001b[0;34m+\u001b[0m \u001b[0mcompare_maker\u001b[0m\u001b[0;34m(\u001b[0m\u001b[0mv\u001b[0m\u001b[0;34m,\u001b[0m \u001b[0mr\u001b[0m\u001b[0;34m)\u001b[0m \u001b[0;34m+\u001b[0m \u001b[0mcompare_name\u001b[0m\u001b[0;34m(\u001b[0m\u001b[0mv\u001b[0m\u001b[0;34m,\u001b[0m \u001b[0mr\u001b[0m\u001b[0;34m)\u001b[0m\u001b[0;34m\u001b[0m\u001b[0m\n\u001b[0m\u001b[1;32m     37\u001b[0m         \u001b[0mwine_points\u001b[0m\u001b[0;34m.\u001b[0m\u001b[0mappend\u001b[0m\u001b[0;34m(\u001b[0m\u001b[0mpoints\u001b[0m\u001b[0;34m)\u001b[0m\u001b[0;34m\u001b[0m\u001b[0m\n\u001b[1;32m     38\u001b[0m         \u001b[0mwines\u001b[0m\u001b[0;34m.\u001b[0m\u001b[0mappend\u001b[0m\u001b[0;34m(\u001b[0m\u001b[0mk\u001b[0m\u001b[0;34m)\u001b[0m\u001b[0;34m\u001b[0m\u001b[0m\n",
      "\u001b[0;32m<ipython-input-63-03ed873fd3c7>\u001b[0m in \u001b[0;36mcompare_name\u001b[0;34m(instance, row)\u001b[0m\n\u001b[1;32m     18\u001b[0m \u001b[0;34m\u001b[0m\u001b[0m\n\u001b[1;32m     19\u001b[0m \u001b[0;32mdef\u001b[0m \u001b[0mcompare_name\u001b[0m\u001b[0;34m(\u001b[0m\u001b[0minstance\u001b[0m\u001b[0;34m,\u001b[0m \u001b[0mrow\u001b[0m\u001b[0;34m)\u001b[0m\u001b[0;34m:\u001b[0m\u001b[0;34m\u001b[0m\u001b[0m\n\u001b[0;32m---> 20\u001b[0;31m     \u001b[0;32mreturn\u001b[0m \u001b[0mjaccard\u001b[0m\u001b[0;34m(\u001b[0m\u001b[0minstance\u001b[0m\u001b[0;34m[\u001b[0m\u001b[0;34m\"name_array\"\u001b[0m\u001b[0;34m]\u001b[0m\u001b[0;34m,\u001b[0m \u001b[0mrow\u001b[0m\u001b[0;34m[\u001b[0m\u001b[0;34m\"title_array\"\u001b[0m\u001b[0;34m]\u001b[0m\u001b[0;34m)\u001b[0m\u001b[0;34m\u001b[0m\u001b[0m\n\u001b[0m\u001b[1;32m     21\u001b[0m \u001b[0;34m\u001b[0m\u001b[0m\n\u001b[1;32m     22\u001b[0m \u001b[0;31m# Для каждого узла\u001b[0m\u001b[0;34m\u001b[0m\u001b[0;34m\u001b[0m\u001b[0m\n",
      "\u001b[0;31mNameError\u001b[0m: name 'jaccard' is not defined"
     ]
    }
   ],
   "source": [
    "def compare_variety(instance, row):\n",
    "    if 'madeFromGrape' not in instance.keys():\n",
    "        return 0\n",
    "    if type(instance[\"madeFromGrape\"]) is list:\n",
    "        return int(row[\"variety\"] in instance[\"madeFromGrape\"]) / len(instance[\"madeFromGrape\"])\n",
    "    else:\n",
    "        return int(row[\"variety\"] == instance[\"madeFromGrape\"])\n",
    "\n",
    "def compare_region(instance, row):\n",
    "    if 'locatedIn' not in instance.keys():\n",
    "        return 0\n",
    "    return int((row[\"region_1\"] == instance[\"locatedIn\"]) or \\\n",
    "            (row[\"region_2\"] == instance[\"locatedIn\"]) or \\\n",
    "            (row[\"country\"] == instance[\"locatedIn\"]) or \\\n",
    "            (row[\"province\"] == instance[\"locatedIn\"]))\n",
    "\n",
    "def compare_maker(instance, row):\n",
    "    if 'hasMaker' not in instance.keys():\n",
    "        return 0\n",
    "    return int(row['winery'] == instance['hasMaker'])\n",
    "\n",
    "def compare_name(instance, row):\n",
    "    return jaccard(instance[\"name_array\"], row[\"title_array\"])\n",
    "\n",
    "# Для каждого узла\n",
    "    # Сравниваем сорт\n",
    "    # Сравниваем регион\n",
    "    # Сравниваем винодельную\n",
    "    # Сравниваем название\n",
    "    # Выбираем самый вложенный, если совпадают\n",
    "    \n",
    "wine_from_ontology = []\n",
    "for i in tqdm(reviews.index):\n",
    "    r = reviews.loc[i]\n",
    "    wine_points = []\n",
    "    wines = []\n",
    "    levels = []\n",
    "    for k, v in instances.items():\n",
    "        points = compare_variety(v, r) + compare_region(v, r) + compare_maker(v, r) + compare_name(v, r)\n",
    "        wine_points.append(points)\n",
    "        wines.append(k)\n",
    "        levels.append(v['level'])\n",
    "    \n",
    "    wine_from_ontology.append(wines[np.argmax(wine_points)])"
   ]
  },
  {
   "cell_type": "code",
   "execution_count": null,
   "metadata": {},
   "outputs": [],
   "source": [
    "reviews[\"wine_from_ontology\"] = wine_from_ontology\n",
    "reviews[\"points\"] = points"
   ]
  },
  {
   "cell_type": "code",
   "execution_count": null,
   "metadata": {},
   "outputs": [],
   "source": [
    "reviews.to_csv(\"reviews_with_matching.csv\")"
   ]
  },
  {
   "cell_type": "markdown",
   "metadata": {},
   "source": [
    "# Использование модели для получения признаков"
   ]
  },
  {
   "cell_type": "code",
   "execution_count": 23,
   "metadata": {},
   "outputs": [],
   "source": [
    "reviews = pd.read_csv(\"reviews_with_matching.csv\")"
   ]
  },
  {
   "cell_type": "code",
   "execution_count": 24,
   "metadata": {},
   "outputs": [],
   "source": [
    "from keras.models import load_model\n",
    "model = load_model('color_classification.h5')"
   ]
  },
  {
   "cell_type": "code",
   "execution_count": 25,
   "metadata": {},
   "outputs": [],
   "source": [
    "reviews[\"filtered_description\"] = reviews[\"filtered_description\"].apply(lambda x: eval(x))"
   ]
  },
  {
   "cell_type": "code",
   "execution_count": 30,
   "metadata": {},
   "outputs": [],
   "source": [
    "texts = reviews[\"filtered_description\"].tolist()"
   ]
  },
  {
   "cell_type": "code",
   "execution_count": 31,
   "metadata": {},
   "outputs": [],
   "source": [
    "import pdb\n",
    "words = {}\n",
    "\n",
    "def get_word_index(w):\n",
    "    if w not in words.keys():\n",
    "        words[w] = len(words.keys()) + 1\n",
    "    return words[w]"
   ]
  },
  {
   "cell_type": "code",
   "execution_count": 32,
   "metadata": {},
   "outputs": [
    {
     "name": "stderr",
     "output_type": "stream",
     "text": [
      "100%|██████████| 129971/129971 [00:06<00:00, 18793.19it/s]\n"
     ]
    }
   ],
   "source": [
    "X = [[get_word_index(w) for w in text] for text in tqdm(texts)]"
   ]
  },
  {
   "cell_type": "code",
   "execution_count": 35,
   "metadata": {},
   "outputs": [],
   "source": [
    "from keras.preprocessing import sequence\n",
    "X_padded = sequence.pad_sequences(X, maxlen=maxlen)"
   ]
  },
  {
   "cell_type": "code",
   "execution_count": 36,
   "metadata": {},
   "outputs": [],
   "source": [
    "batches = []"
   ]
  },
  {
   "cell_type": "code",
   "execution_count": 37,
   "metadata": {
    "scrolled": false
   },
   "outputs": [
    {
     "name": "stderr",
     "output_type": "stream",
     "text": [
      "100%|██████████| 4061/4061 [30:38<00:00,  2.21it/s]\n"
     ]
    }
   ],
   "source": [
    "for i in tqdm(range(int(len(X_padded) / batch_size))):\n",
    "    batches.append(model.predict(X_padded[i*batch_size:(i+1)*batch_size]))"
   ]
  },
  {
   "cell_type": "code",
   "execution_count": null,
   "metadata": {},
   "outputs": [],
   "source": [
    "answers = np.array([\"Red\", \"White\", \"Rose\"])[np.argmax(predicted_y, axis=1)]"
   ]
  },
  {
   "cell_type": "code",
   "execution_count": 40,
   "metadata": {},
   "outputs": [],
   "source": [
    "np.save('batches.npy', batches)"
   ]
  },
  {
   "cell_type": "code",
   "execution_count": 45,
   "metadata": {},
   "outputs": [],
   "source": [
    "batches.append(model.predict(X_padded[len(batches) * batch_size:]))"
   ]
  },
  {
   "cell_type": "code",
   "execution_count": 46,
   "metadata": {},
   "outputs": [],
   "source": [
    "batches = [x for l in batches for x in l]"
   ]
  },
  {
   "cell_type": "code",
   "execution_count": 48,
   "metadata": {},
   "outputs": [],
   "source": [
    "predicted_y = batches"
   ]
  },
  {
   "cell_type": "code",
   "execution_count": 49,
   "metadata": {},
   "outputs": [],
   "source": [
    "np.save('predicted_y.npy', predicted_y)"
   ]
  },
  {
   "cell_type": "code",
   "execution_count": 67,
   "metadata": {},
   "outputs": [],
   "source": [
    "reviews[\"guessed_color\"] = np.array([\"Red\", \"White\", \"Rose\"])[np.argmax(predicted_y, axis=1)]"
   ]
  },
  {
   "cell_type": "code",
   "execution_count": 68,
   "metadata": {},
   "outputs": [
    {
     "data": {
      "text/plain": [
       "0           Red\n",
       "1           Red\n",
       "2         White\n",
       "3         White\n",
       "4           Red\n",
       "5           Red\n",
       "6           Red\n",
       "7           Red\n",
       "8         White\n",
       "9           Red\n",
       "10          Red\n",
       "11          Red\n",
       "12          Red\n",
       "13          Red\n",
       "14        White\n",
       "15        White\n",
       "16          Red\n",
       "17          Red\n",
       "18          Red\n",
       "19          Red\n",
       "20          Red\n",
       "21          Red\n",
       "22        White\n",
       "23          Red\n",
       "24          Red\n",
       "25          Red\n",
       "26        White\n",
       "27          Red\n",
       "28          Red\n",
       "29        White\n",
       "          ...  \n",
       "129941    White\n",
       "129942      Red\n",
       "129943      Red\n",
       "129944      Red\n",
       "129945      Red\n",
       "129946    White\n",
       "129947      Red\n",
       "129948      Red\n",
       "129949    White\n",
       "129950      Red\n",
       "129951      Red\n",
       "129952      Red\n",
       "129953      Red\n",
       "129954      Red\n",
       "129955    White\n",
       "129956      Red\n",
       "129957      Red\n",
       "129958      Red\n",
       "129959    White\n",
       "129960      Red\n",
       "129961      Red\n",
       "129962      Red\n",
       "129963      Red\n",
       "129964    White\n",
       "129965      Red\n",
       "129966    White\n",
       "129967      Red\n",
       "129968      Red\n",
       "129969      Red\n",
       "129970      Red\n",
       "Name: guessed_color, Length: 129971, dtype: object"
      ]
     },
     "execution_count": 68,
     "metadata": {},
     "output_type": "execute_result"
    }
   ],
   "source": [
    "reviews[\"guessed_color\"]"
   ]
  },
  {
   "cell_type": "code",
   "execution_count": 73,
   "metadata": {},
   "outputs": [],
   "source": [
    "matching = pd.get_dummies(reviews, columns=[\"guessed_color\"])[[\"wine_from_ontology\", \"guessed_color_Red\", \"guessed_color_White\"]]"
   ]
  },
  {
   "cell_type": "code",
   "execution_count": 77,
   "metadata": {},
   "outputs": [],
   "source": [
    "matching = matching.groupby(\"wine_from_ontology\").mean()"
   ]
  },
  {
   "cell_type": "code",
   "execution_count": 65,
   "metadata": {},
   "outputs": [],
   "source": [
    "def extract_feature(x, feature):\n",
    "    if feature not in instances[x].keys():\n",
    "        return None\n",
    "    if type(instances[x][feature]) is list:\n",
    "        return np.random.choice(instances[x][feature])\n",
    "    return instances[x][feature]\n",
    "    \n",
    "def extract_flavor(x):\n",
    "    return extract_feature(x, \"hasColor\")\n",
    "\n",
    "reviews[\"color\"] = reviews[\"wine_from_ontology\"].apply(extract_flavor)"
   ]
  },
  {
   "cell_type": "code",
   "execution_count": null,
   "metadata": {},
   "outputs": [],
   "source": []
  },
  {
   "cell_type": "markdown",
   "metadata": {},
   "source": [
    "# Визуализация для выборки"
   ]
  },
  {
   "cell_type": "code",
   "execution_count": 208,
   "metadata": {},
   "outputs": [
    {
     "data": {
      "text/plain": [
       "7"
      ]
     },
     "execution_count": 208,
     "metadata": {},
     "output_type": "execute_result"
    }
   ],
   "source": [
    "set_wines = list(reviews.sample(frac=0.10)[\"wine_from_ontology\"].unique())\n",
    "all_wines = list(reviews.sample(frac=0.10)[\"wine_from_ontology\"].unique())\n",
    "difference = [w for w in set_wines if w not in all_wines]\n",
    "len(difference)"
   ]
  },
  {
   "cell_type": "code",
   "execution_count": 209,
   "metadata": {},
   "outputs": [
    {
     "data": {
      "text/plain": [
       "['RedBordeaux',\n",
       " 'SemillonOrSauvignonBlanc',\n",
       " 'IceWine',\n",
       " 'SweetWine',\n",
       " 'WhiteLoire',\n",
       " 'WhiteNonSweetWine',\n",
       " 'DryRedWine']"
      ]
     },
     "execution_count": 209,
     "metadata": {},
     "output_type": "execute_result"
    }
   ],
   "source": [
    "difference"
   ]
  },
  {
   "cell_type": "code",
   "execution_count": 97,
   "metadata": {},
   "outputs": [],
   "source": [
    "guessed_color_matching = pd.get_dummies(reviews, columns=[\"guessed_color\"])[[\"wine_from_ontology\", \"guessed_color_Red\", \"guessed_color_White\"]]\n",
    "guessed_color_matching = guessed_color_matching.groupby(\"wine_from_ontology\").mean()"
   ]
  },
  {
   "cell_type": "code",
   "execution_count": 98,
   "metadata": {},
   "outputs": [],
   "source": [
    "color_matching = pd.get_dummies(reviews, columns=[\"color\"])[[\"wine_from_ontology\", \"color_Red\", \"color_White\"]]\n",
    "color_matching = color_matching.groupby(\"wine_from_ontology\").mean()"
   ]
  },
  {
   "cell_type": "code",
   "execution_count": 127,
   "metadata": {},
   "outputs": [],
   "source": [
    "objects = [{\"id\": c, \"type\": \"wine\"} for c in guessed_color_matching.index]"
   ]
  },
  {
   "cell_type": "code",
   "execution_count": 128,
   "metadata": {},
   "outputs": [],
   "source": [
    "features = [{\"id\": \"Red\", \"type\": \"feature\"}, {\"id\": \"White\", \"type\": \"feature\"}]"
   ]
  },
  {
   "cell_type": "code",
   "execution_count": 129,
   "metadata": {},
   "outputs": [],
   "source": [
    "links = []"
   ]
  },
  {
   "cell_type": "code",
   "execution_count": 130,
   "metadata": {},
   "outputs": [],
   "source": [
    "for i, r in color_matching.iterrows():\n",
    "    if (r.sum() > 0):\n",
    "        links.append({\n",
    "            \"source\": i,\n",
    "            \"target\": np.argmax(r).replace(\"color_\", \"\"),\n",
    "            \"type\": \"original\"\n",
    "        })"
   ]
  },
  {
   "cell_type": "code",
   "execution_count": 131,
   "metadata": {},
   "outputs": [],
   "source": [
    "for i, r in guessed_color_matching.iterrows():\n",
    "    links.append({\n",
    "        \"source\": i,\n",
    "        \"target\": np.argmax(r).replace(\"guessed_color_\", \"\"),\n",
    "        \"type\": \"guessed\"\n",
    "    })"
   ]
  },
  {
   "cell_type": "code",
   "execution_count": 132,
   "metadata": {},
   "outputs": [],
   "source": [
    "graph = {\n",
    "    \"nodes\": list(objects) + list(features),\n",
    "    \"links\": links\n",
    "}"
   ]
  },
  {
   "cell_type": "code",
   "execution_count": 133,
   "metadata": {},
   "outputs": [
    {
     "data": {
      "text/plain": [
       "'{\"links\": [{\"target\": \"Red\", \"type\": \"original\", \"source\": \"Beaujolais\"}, {\"target\": \"Red\", \"type\": \"original\", \"source\": \"CabernetFranc\"}, {\"target\": \"Red\", \"type\": \"original\", \"source\": \"CabernetSauvignon\"}, {\"target\": \"White\", \"type\": \"original\", \"source\": \"Chardonnay\"}, {\"target\": \"White\", \"type\": \"original\", \"source\": \"CheninBlanc\"}, {\"target\": \"Red\", \"type\": \"original\", \"source\": \"Chianti\"}, {\"target\": \"Red\", \"type\": \"original\", \"source\": \"CotesDOr\"}, {\"target\": \"Red\", \"type\": \"original\", \"source\": \"DryRedWine\"}, {\"target\": \"White\", \"type\": \"original\", \"source\": \"DryRiesling\"}, {\"target\": \"White\", \"type\": \"original\", \"source\": \"DryWhiteWine\"}, {\"target\": \"White\", \"type\": \"original\", \"source\": \"IceWine\"}, {\"target\": \"Red\", \"type\": \"original\", \"source\": \"Margaux\"}, {\"target\": \"Red\", \"type\": \"original\", \"source\": \"Meritage\"}, {\"target\": \"Red\", \"type\": \"original\", \"source\": \"Merlot\"}, {\"target\": \"White\", \"type\": \"original\", \"source\": \"Meursault\"}, {\"target\": \"Red\", \"type\": \"original\", \"source\": \"Pauillac\"}, {\"target\": \"Red\", \"type\": \"original\", \"source\": \"PetiteSyrah\"}, {\"target\": \"White\", \"type\": \"original\", \"source\": \"PinotBlanc\"}, {\"target\": \"Red\", \"type\": \"original\", \"source\": \"PinotNoir\"}, {\"target\": \"Red\", \"type\": \"original\", \"source\": \"Port\"}, {\"target\": \"Red\", \"type\": \"original\", \"source\": \"RedBordeaux\"}, {\"target\": \"Red\", \"type\": \"original\", \"source\": \"RedBurgundy\"}, {\"target\": \"Red\", \"type\": \"original\", \"source\": \"RedTableWine\"}, {\"target\": \"Red\", \"type\": \"original\", \"source\": \"RedWine\"}, {\"target\": \"White\", \"type\": \"original\", \"source\": \"Riesling\"}, {\"target\": \"White\", \"type\": \"original\", \"source\": \"Sauternes\"}, {\"target\": \"White\", \"type\": \"original\", \"source\": \"SauvignonBlanc\"}, {\"target\": \"White\", \"type\": \"original\", \"source\": \"Semillon\"}, {\"target\": \"White\", \"type\": \"original\", \"source\": \"SemillonOrSauvignonBlanc\"}, {\"target\": \"Red\", \"type\": \"original\", \"source\": \"StEmilion\"}, {\"target\": \"White\", \"type\": \"original\", \"source\": \"WhiteBordeaux\"}, {\"target\": \"White\", \"type\": \"original\", \"source\": \"WhiteLoire\"}, {\"target\": \"White\", \"type\": \"original\", \"source\": \"WhiteNonSweetWine\"}, {\"target\": \"White\", \"type\": \"original\", \"source\": \"WhiteWine\"}, {\"target\": \"Red\", \"type\": \"original\", \"source\": \"Zinfandel\"}, {\"target\": \"Red\", \"type\": \"guessed\", \"source\": \"AlsatianWine\"}, {\"target\": \"Red\", \"type\": \"guessed\", \"source\": \"AmericanWine\"}, {\"target\": \"Red\", \"type\": \"guessed\", \"source\": \"Anjou\"}, {\"target\": \"Red\", \"type\": \"guessed\", \"source\": \"Beaujolais\"}, {\"target\": \"Red\", \"type\": \"guessed\", \"source\": \"Bordeaux\"}, {\"target\": \"Red\", \"type\": \"guessed\", \"source\": \"Burgundy\"}, {\"target\": \"Red\", \"type\": \"guessed\", \"source\": \"CabernetFranc\"}, {\"target\": \"Red\", \"type\": \"guessed\", \"source\": \"CabernetSauvignon\"}, {\"target\": \"Red\", \"type\": \"guessed\", \"source\": \"CaliforniaWine\"}, {\"target\": \"White\", \"type\": \"guessed\", \"source\": \"Chardonnay\"}, {\"target\": \"White\", \"type\": \"guessed\", \"source\": \"CheninBlanc\"}, {\"target\": \"Red\", \"type\": \"guessed\", \"source\": \"Chianti\"}, {\"target\": \"Red\", \"type\": \"guessed\", \"source\": \"CotesDOr\"}, {\"target\": \"White\", \"type\": \"guessed\", \"source\": \"DessertWine\"}, {\"target\": \"Red\", \"type\": \"guessed\", \"source\": \"DryRedWine\"}, {\"target\": \"White\", \"type\": \"guessed\", \"source\": \"DryRiesling\"}, {\"target\": \"White\", \"type\": \"guessed\", \"source\": \"DryWhiteWine\"}, {\"target\": \"Red\", \"type\": \"guessed\", \"source\": \"DryWine\"}, {\"target\": \"Red\", \"type\": \"guessed\", \"source\": \"EarlyHarvest\"}, {\"target\": \"Red\", \"type\": \"guessed\", \"source\": \"FrenchWine\"}, {\"target\": \"Red\", \"type\": \"guessed\", \"source\": \"Gamay\"}, {\"target\": \"Red\", \"type\": \"guessed\", \"source\": \"GermanWine\"}, {\"target\": \"Red\", \"type\": \"guessed\", \"source\": \"IceWine\"}, {\"target\": \"Red\", \"type\": \"guessed\", \"source\": \"ItalianWine\"}, {\"target\": \"Red\", \"type\": \"guessed\", \"source\": \"LateHarvest\"}, {\"target\": \"Red\", \"type\": \"guessed\", \"source\": \"Loire\"}, {\"target\": \"Red\", \"type\": \"guessed\", \"source\": \"Margaux\"}, {\"target\": \"Red\", \"type\": \"guessed\", \"source\": \"Meritage\"}, {\"target\": \"Red\", \"type\": \"guessed\", \"source\": \"Merlot\"}, {\"target\": \"White\", \"type\": \"guessed\", \"source\": \"Meursault\"}, {\"target\": \"Red\", \"type\": \"guessed\", \"source\": \"Muscadet\"}, {\"target\": \"Red\", \"type\": \"guessed\", \"source\": \"Pauillac\"}, {\"target\": \"Red\", \"type\": \"guessed\", \"source\": \"PetiteSyrah\"}, {\"target\": \"Red\", \"type\": \"guessed\", \"source\": \"PinotBlanc\"}, {\"target\": \"Red\", \"type\": \"guessed\", \"source\": \"PinotNoir\"}, {\"target\": \"Red\", \"type\": \"guessed\", \"source\": \"Port\"}, {\"target\": \"Red\", \"type\": \"guessed\", \"source\": \"RedBordeaux\"}, {\"target\": \"Red\", \"type\": \"guessed\", \"source\": \"RedBurgundy\"}, {\"target\": \"Red\", \"type\": \"guessed\", \"source\": \"RedTableWine\"}, {\"target\": \"Red\", \"type\": \"guessed\", \"source\": \"RedWine\"}, {\"target\": \"White\", \"type\": \"guessed\", \"source\": \"Riesling\"}, {\"target\": \"Red\", \"type\": \"guessed\", \"source\": \"RoseWine\"}, {\"target\": \"Red\", \"type\": \"guessed\", \"source\": \"Sancerre\"}, {\"target\": \"White\", \"type\": \"guessed\", \"source\": \"Sauternes\"}, {\"target\": \"White\", \"type\": \"guessed\", \"source\": \"SauvignonBlanc\"}, {\"target\": \"White\", \"type\": \"guessed\", \"source\": \"Semillon\"}, {\"target\": \"White\", \"type\": \"guessed\", \"source\": \"SemillonOrSauvignonBlanc\"}, {\"target\": \"Red\", \"type\": \"guessed\", \"source\": \"StEmilion\"}, {\"target\": \"White\", \"type\": \"guessed\", \"source\": \"SweetRiesling\"}, {\"target\": \"Red\", \"type\": \"guessed\", \"source\": \"SweetWine\"}, {\"target\": \"Red\", \"type\": \"guessed\", \"source\": \"TableWine\"}, {\"target\": \"Red\", \"type\": \"guessed\", \"source\": \"TexasWine\"}, {\"target\": \"Red\", \"type\": \"guessed\", \"source\": \"Tours\"}, {\"target\": \"White\", \"type\": \"guessed\", \"source\": \"WhiteBordeaux\"}, {\"target\": \"White\", \"type\": \"guessed\", \"source\": \"WhiteLoire\"}, {\"target\": \"Red\", \"type\": \"guessed\", \"source\": \"WhiteNonSweetWine\"}, {\"target\": \"White\", \"type\": \"guessed\", \"source\": \"WhiteWine\"}, {\"target\": \"Red\", \"type\": \"guessed\", \"source\": \"Zinfandel\"}], \"nodes\": [{\"id\": \"AlsatianWine\", \"type\": \"wine\"}, {\"id\": \"AmericanWine\", \"type\": \"wine\"}, {\"id\": \"Anjou\", \"type\": \"wine\"}, {\"id\": \"Beaujolais\", \"type\": \"wine\"}, {\"id\": \"Bordeaux\", \"type\": \"wine\"}, {\"id\": \"Burgundy\", \"type\": \"wine\"}, {\"id\": \"CabernetFranc\", \"type\": \"wine\"}, {\"id\": \"CabernetSauvignon\", \"type\": \"wine\"}, {\"id\": \"CaliforniaWine\", \"type\": \"wine\"}, {\"id\": \"Chardonnay\", \"type\": \"wine\"}, {\"id\": \"CheninBlanc\", \"type\": \"wine\"}, {\"id\": \"Chianti\", \"type\": \"wine\"}, {\"id\": \"CotesDOr\", \"type\": \"wine\"}, {\"id\": \"DessertWine\", \"type\": \"wine\"}, {\"id\": \"DryRedWine\", \"type\": \"wine\"}, {\"id\": \"DryRiesling\", \"type\": \"wine\"}, {\"id\": \"DryWhiteWine\", \"type\": \"wine\"}, {\"id\": \"DryWine\", \"type\": \"wine\"}, {\"id\": \"EarlyHarvest\", \"type\": \"wine\"}, {\"id\": \"FrenchWine\", \"type\": \"wine\"}, {\"id\": \"Gamay\", \"type\": \"wine\"}, {\"id\": \"GermanWine\", \"type\": \"wine\"}, {\"id\": \"IceWine\", \"type\": \"wine\"}, {\"id\": \"ItalianWine\", \"type\": \"wine\"}, {\"id\": \"LateHarvest\", \"type\": \"wine\"}, {\"id\": \"Loire\", \"type\": \"wine\"}, {\"id\": \"Margaux\", \"type\": \"wine\"}, {\"id\": \"Meritage\", \"type\": \"wine\"}, {\"id\": \"Merlot\", \"type\": \"wine\"}, {\"id\": \"Meursault\", \"type\": \"wine\"}, {\"id\": \"Muscadet\", \"type\": \"wine\"}, {\"id\": \"Pauillac\", \"type\": \"wine\"}, {\"id\": \"PetiteSyrah\", \"type\": \"wine\"}, {\"id\": \"PinotBlanc\", \"type\": \"wine\"}, {\"id\": \"PinotNoir\", \"type\": \"wine\"}, {\"id\": \"Port\", \"type\": \"wine\"}, {\"id\": \"RedBordeaux\", \"type\": \"wine\"}, {\"id\": \"RedBurgundy\", \"type\": \"wine\"}, {\"id\": \"RedTableWine\", \"type\": \"wine\"}, {\"id\": \"RedWine\", \"type\": \"wine\"}, {\"id\": \"Riesling\", \"type\": \"wine\"}, {\"id\": \"RoseWine\", \"type\": \"wine\"}, {\"id\": \"Sancerre\", \"type\": \"wine\"}, {\"id\": \"Sauternes\", \"type\": \"wine\"}, {\"id\": \"SauvignonBlanc\", \"type\": \"wine\"}, {\"id\": \"Semillon\", \"type\": \"wine\"}, {\"id\": \"SemillonOrSauvignonBlanc\", \"type\": \"wine\"}, {\"id\": \"StEmilion\", \"type\": \"wine\"}, {\"id\": \"SweetRiesling\", \"type\": \"wine\"}, {\"id\": \"SweetWine\", \"type\": \"wine\"}, {\"id\": \"TableWine\", \"type\": \"wine\"}, {\"id\": \"TexasWine\", \"type\": \"wine\"}, {\"id\": \"Tours\", \"type\": \"wine\"}, {\"id\": \"WhiteBordeaux\", \"type\": \"wine\"}, {\"id\": \"WhiteLoire\", \"type\": \"wine\"}, {\"id\": \"WhiteNonSweetWine\", \"type\": \"wine\"}, {\"id\": \"WhiteWine\", \"type\": \"wine\"}, {\"id\": \"Zinfandel\", \"type\": \"wine\"}, {\"id\": \"Red\", \"type\": \"feature\"}, {\"id\": \"White\", \"type\": \"feature\"}]}'"
      ]
     },
     "execution_count": 133,
     "metadata": {},
     "output_type": "execute_result"
    }
   ],
   "source": [
    "import json\n",
    "json.dumps(graph)"
   ]
  },
  {
   "cell_type": "code",
   "execution_count": 124,
   "metadata": {},
   "outputs": [
    {
     "data": {
      "text/plain": [
       "[{'source': 'Beaujolais', 'target': 'Red', 'type': 'original'},\n",
       " {'source': 'CabernetFranc', 'target': 'Red', 'type': 'original'},\n",
       " {'source': 'CabernetSauvignon', 'target': 'Red', 'type': 'original'},\n",
       " {'source': 'Chardonnay', 'target': 'White', 'type': 'original'},\n",
       " {'source': 'CheninBlanc', 'target': 'White', 'type': 'original'},\n",
       " {'source': 'Chianti', 'target': 'Red', 'type': 'original'},\n",
       " {'source': 'CotesDOr', 'target': 'Red', 'type': 'original'},\n",
       " {'source': 'DryRedWine', 'target': 'Red', 'type': 'original'},\n",
       " {'source': 'DryRiesling', 'target': 'White', 'type': 'original'},\n",
       " {'source': 'DryWhiteWine', 'target': 'White', 'type': 'original'},\n",
       " {'source': 'IceWine', 'target': 'White', 'type': 'original'},\n",
       " {'source': 'Margaux', 'target': 'Red', 'type': 'original'},\n",
       " {'source': 'Meritage', 'target': 'Red', 'type': 'original'},\n",
       " {'source': 'Merlot', 'target': 'Red', 'type': 'original'},\n",
       " {'source': 'Meursault', 'target': 'White', 'type': 'original'},\n",
       " {'source': 'Pauillac', 'target': 'Red', 'type': 'original'},\n",
       " {'source': 'PetiteSyrah', 'target': 'Red', 'type': 'original'},\n",
       " {'source': 'PinotBlanc', 'target': 'White', 'type': 'original'},\n",
       " {'source': 'PinotNoir', 'target': 'Red', 'type': 'original'},\n",
       " {'source': 'Port', 'target': 'Red', 'type': 'original'},\n",
       " {'source': 'RedBordeaux', 'target': 'Red', 'type': 'original'},\n",
       " {'source': 'RedBurgundy', 'target': 'Red', 'type': 'original'},\n",
       " {'source': 'RedTableWine', 'target': 'Red', 'type': 'original'},\n",
       " {'source': 'RedWine', 'target': 'Red', 'type': 'original'},\n",
       " {'source': 'Riesling', 'target': 'White', 'type': 'original'},\n",
       " {'source': 'Sauternes', 'target': 'White', 'type': 'original'},\n",
       " {'source': 'SauvignonBlanc', 'target': 'White', 'type': 'original'},\n",
       " {'source': 'Semillon', 'target': 'White', 'type': 'original'},\n",
       " {'source': 'SemillonOrSauvignonBlanc', 'target': 'White', 'type': 'original'},\n",
       " {'source': 'StEmilion', 'target': 'Red', 'type': 'original'},\n",
       " {'source': 'WhiteBordeaux', 'target': 'White', 'type': 'original'},\n",
       " {'source': 'WhiteLoire', 'target': 'White', 'type': 'original'},\n",
       " {'source': 'WhiteNonSweetWine', 'target': 'White', 'type': 'original'},\n",
       " {'source': 'WhiteWine', 'target': 'White', 'type': 'original'},\n",
       " {'source': 'Zinfandel', 'target': 'Red', 'type': 'original'},\n",
       " {'source': 'AlsatianWine', 'target': 'Red', 'type': 'guessed'},\n",
       " {'source': 'AmericanWine', 'target': 'Red', 'type': 'guessed'},\n",
       " {'source': 'Anjou', 'target': 'Red', 'type': 'guessed'},\n",
       " {'source': 'Beaujolais', 'target': 'Red', 'type': 'guessed'},\n",
       " {'source': 'Bordeaux', 'target': 'Red', 'type': 'guessed'},\n",
       " {'source': 'Burgundy', 'target': 'Red', 'type': 'guessed'},\n",
       " {'source': 'CabernetFranc', 'target': 'Red', 'type': 'guessed'},\n",
       " {'source': 'CabernetSauvignon', 'target': 'Red', 'type': 'guessed'},\n",
       " {'source': 'CaliforniaWine', 'target': 'Red', 'type': 'guessed'},\n",
       " {'source': 'Chardonnay', 'target': 'White', 'type': 'guessed'},\n",
       " {'source': 'CheninBlanc', 'target': 'White', 'type': 'guessed'},\n",
       " {'source': 'Chianti', 'target': 'Red', 'type': 'guessed'},\n",
       " {'source': 'CotesDOr', 'target': 'Red', 'type': 'guessed'},\n",
       " {'source': 'DessertWine', 'target': 'White', 'type': 'guessed'},\n",
       " {'source': 'DryRedWine', 'target': 'Red', 'type': 'guessed'},\n",
       " {'source': 'DryRiesling', 'target': 'White', 'type': 'guessed'},\n",
       " {'source': 'DryWhiteWine', 'target': 'White', 'type': 'guessed'},\n",
       " {'source': 'DryWine', 'target': 'Red', 'type': 'guessed'},\n",
       " {'source': 'EarlyHarvest', 'target': 'Red', 'type': 'guessed'},\n",
       " {'source': 'FrenchWine', 'target': 'Red', 'type': 'guessed'},\n",
       " {'source': 'Gamay', 'target': 'Red', 'type': 'guessed'},\n",
       " {'source': 'GermanWine', 'target': 'Red', 'type': 'guessed'},\n",
       " {'source': 'IceWine', 'target': 'Red', 'type': 'guessed'},\n",
       " {'source': 'ItalianWine', 'target': 'Red', 'type': 'guessed'},\n",
       " {'source': 'LateHarvest', 'target': 'Red', 'type': 'guessed'},\n",
       " {'source': 'Loire', 'target': 'Red', 'type': 'guessed'},\n",
       " {'source': 'Margaux', 'target': 'Red', 'type': 'guessed'},\n",
       " {'source': 'Meritage', 'target': 'Red', 'type': 'guessed'},\n",
       " {'source': 'Merlot', 'target': 'Red', 'type': 'guessed'},\n",
       " {'source': 'Meursault', 'target': 'White', 'type': 'guessed'},\n",
       " {'source': 'Muscadet', 'target': 'Red', 'type': 'guessed'},\n",
       " {'source': 'Pauillac', 'target': 'Red', 'type': 'guessed'},\n",
       " {'source': 'PetiteSyrah', 'target': 'Red', 'type': 'guessed'},\n",
       " {'source': 'PinotBlanc', 'target': 'Red', 'type': 'guessed'},\n",
       " {'source': 'PinotNoir', 'target': 'Red', 'type': 'guessed'},\n",
       " {'source': 'Port', 'target': 'Red', 'type': 'guessed'},\n",
       " {'source': 'RedBordeaux', 'target': 'Red', 'type': 'guessed'},\n",
       " {'source': 'RedBurgundy', 'target': 'Red', 'type': 'guessed'},\n",
       " {'source': 'RedTableWine', 'target': 'Red', 'type': 'guessed'},\n",
       " {'source': 'RedWine', 'target': 'Red', 'type': 'guessed'},\n",
       " {'source': 'Riesling', 'target': 'White', 'type': 'guessed'},\n",
       " {'source': 'RoseWine', 'target': 'Red', 'type': 'guessed'},\n",
       " {'source': 'Sancerre', 'target': 'Red', 'type': 'guessed'},\n",
       " {'source': 'Sauternes', 'target': 'White', 'type': 'guessed'},\n",
       " {'source': 'SauvignonBlanc', 'target': 'White', 'type': 'guessed'},\n",
       " {'source': 'Semillon', 'target': 'White', 'type': 'guessed'},\n",
       " {'source': 'SemillonOrSauvignonBlanc', 'target': 'White', 'type': 'guessed'},\n",
       " {'source': 'StEmilion', 'target': 'Red', 'type': 'guessed'},\n",
       " {'source': 'SweetRiesling', 'target': 'White', 'type': 'guessed'},\n",
       " {'source': 'SweetWine', 'target': 'Red', 'type': 'guessed'},\n",
       " {'source': 'TableWine', 'target': 'Red', 'type': 'guessed'},\n",
       " {'source': 'TexasWine', 'target': 'Red', 'type': 'guessed'},\n",
       " {'source': 'Tours', 'target': 'Red', 'type': 'guessed'},\n",
       " {'source': 'WhiteBordeaux', 'target': 'White', 'type': 'guessed'},\n",
       " {'source': 'WhiteLoire', 'target': 'White', 'type': 'guessed'},\n",
       " {'source': 'WhiteNonSweetWine', 'target': 'Red', 'type': 'guessed'},\n",
       " {'source': 'WhiteWine', 'target': 'White', 'type': 'guessed'},\n",
       " {'source': 'Zinfandel', 'target': 'Red', 'type': 'guessed'}]"
      ]
     },
     "execution_count": 124,
     "metadata": {},
     "output_type": "execute_result"
    }
   ],
   "source": [
    "links"
   ]
  },
  {
   "cell_type": "code",
   "execution_count": 295,
   "metadata": {},
   "outputs": [],
   "source": [
    "wines = []"
   ]
  },
  {
   "cell_type": "code",
   "execution_count": 296,
   "metadata": {},
   "outputs": [],
   "source": [
    "for w in train_wine_colors.keys():\n",
    "    wines.append({\n",
    "        \"id\": w,\n",
    "        \"group\": \"wine\"\n",
    "    })"
   ]
  },
  {
   "cell_type": "code",
   "execution_count": 297,
   "metadata": {},
   "outputs": [],
   "source": [
    "for w in test_wine_colors.keys():\n",
    "    wines.append({\n",
    "        \"id\": w,\n",
    "        \"group\": \"wine\",\n",
    "        \"new\": True\n",
    "    })"
   ]
  },
  {
   "cell_type": "code",
   "execution_count": 298,
   "metadata": {},
   "outputs": [],
   "source": [
    "wines.append({\n",
    "    \"id\": \"Red\",\n",
    "    \"group\": \"feature\"\n",
    "})"
   ]
  },
  {
   "cell_type": "code",
   "execution_count": 299,
   "metadata": {},
   "outputs": [],
   "source": [
    "wines.append({\n",
    "    \"id\": \"White\",\n",
    "    \"group\": \"feature\"\n",
    "})"
   ]
  },
  {
   "cell_type": "code",
   "execution_count": 306,
   "metadata": {},
   "outputs": [],
   "source": [
    "links = []"
   ]
  },
  {
   "cell_type": "code",
   "execution_count": 307,
   "metadata": {},
   "outputs": [],
   "source": [
    "# for k, v in train_wine_colors.items():\n",
    "#     links.append({\n",
    "#         \"source\": k,\n",
    "#         \"target\": v,\n",
    "#         \"group\": \"original\"\n",
    "#     })"
   ]
  },
  {
   "cell_type": "code",
   "execution_count": 308,
   "metadata": {},
   "outputs": [],
   "source": [
    "for i, r in reviews[[\"wine_from_ontology\", \"color\"]].drop_duplicates().iterrows():\n",
    "    if r[\"color\"]:\n",
    "        links.append({\n",
    "            \"source\": r[\"wine_from_ontology\"],\n",
    "            \"target\": r[\"color\"],\n",
    "            \"group\": \"original\"\n",
    "        })"
   ]
  },
  {
   "cell_type": "code",
   "execution_count": 309,
   "metadata": {},
   "outputs": [],
   "source": [
    "for k, v in test_wine_colors.items():\n",
    "    links.append({\n",
    "        \"source\": k,\n",
    "        \"target\": v,\n",
    "        \"group\": \"guessed\"\n",
    "    })"
   ]
  },
  {
   "cell_type": "code",
   "execution_count": 310,
   "metadata": {},
   "outputs": [],
   "source": [
    "graph = {\n",
    "    \"nodes\": wines,\n",
    "    \"links\": links\n",
    "}"
   ]
  },
  {
   "cell_type": "code",
   "execution_count": 311,
   "metadata": {},
   "outputs": [
    {
     "data": {
      "text/plain": [
       "'{\"links\": [{\"target\": \"Red\", \"source\": \"Port\", \"group\": \"original\"}, {\"target\": \"White\", \"source\": \"Riesling\", \"group\": \"original\"}, {\"target\": \"Red\", \"source\": \"PinotNoir\", \"group\": \"original\"}, {\"target\": \"Red\", \"source\": \"Margaux\", \"group\": \"original\"}, {\"target\": \"Red\", \"source\": \"CabernetSauvignon\", \"group\": \"original\"}, {\"target\": \"White\", \"source\": \"Chardonnay\", \"group\": \"original\"}, {\"target\": \"Red\", \"source\": \"Merlot\", \"group\": \"original\"}, {\"target\": \"White\", \"source\": \"CheninBlanc\", \"group\": \"original\"}, {\"target\": \"Red\", \"source\": \"Beaujolais\", \"group\": \"original\"}, {\"target\": \"White\", \"source\": \"SauvignonBlanc\", \"group\": \"original\"}, {\"target\": \"Red\", \"source\": \"Chianti\", \"group\": \"original\"}, {\"target\": \"Red\", \"source\": \"CabernetFranc\", \"group\": \"original\"}, {\"target\": \"Red\", \"source\": \"Zinfandel\", \"group\": \"original\"}, {\"target\": \"White\", \"source\": \"DryRiesling\", \"group\": \"original\"}, {\"target\": \"White\", \"source\": \"PinotBlanc\", \"group\": \"original\"}, {\"target\": \"Red\", \"source\": \"RedBurgundy\", \"group\": \"original\"}, {\"target\": \"Red\", \"source\": \"PetiteSyrah\", \"group\": \"original\"}, {\"target\": \"White\", \"source\": \"WhiteWine\", \"group\": \"original\"}, {\"target\": \"Red\", \"source\": \"StEmilion\", \"group\": \"original\"}, {\"target\": \"White\", \"source\": \"Meursault\", \"group\": \"original\"}, {\"target\": \"White\", \"source\": \"Semillon\", \"group\": \"original\"}, {\"target\": \"Red\", \"source\": \"Pauillac\", \"group\": \"original\"}, {\"target\": \"White\", \"source\": \"Sauternes\", \"group\": \"original\"}, {\"target\": \"Rose\", \"source\": \"RoseWine\", \"group\": \"original\"}, {\"target\": \"Red\", \"source\": \"RedBordeaux\", \"group\": \"original\"}, {\"target\": \"White\", \"source\": \"WhiteNonSweetWine\", \"group\": \"original\"}, {\"target\": \"Red\", \"source\": \"Meritage\", \"group\": \"original\"}, {\"target\": \"Red\", \"source\": \"CotesDOr\", \"group\": \"original\"}, {\"target\": \"Red\", \"source\": \"RedWine\", \"group\": \"original\"}, {\"target\": \"Red\", \"source\": \"RedTableWine\", \"group\": \"original\"}, {\"target\": \"White\", \"source\": \"DryWhiteWine\", \"group\": \"original\"}, {\"target\": \"White\", \"source\": \"WhiteBordeaux\", \"group\": \"original\"}, {\"target\": \"Red\", \"source\": \"DryRedWine\", \"group\": \"original\"}, {\"target\": \"White\", \"source\": \"WhiteLoire\", \"group\": \"original\"}, {\"target\": \"White\", \"source\": \"IceWine\", \"group\": \"original\"}, {\"target\": \"White\", \"source\": \"SemillonOrSauvignonBlanc\", \"group\": \"original\"}, {\"target\": \"Rose\", \"source\": \"Anjou\", \"group\": \"original\"}, {\"target\": \"Red\", \"source\": \"CabernetFranc\", \"group\": \"guessed\"}, {\"target\": \"White\", \"source\": \"SweetWine\", \"group\": \"guessed\"}, {\"target\": \"Red\", \"source\": \"RedBurgundy\", \"group\": \"guessed\"}, {\"target\": \"White\", \"source\": \"WhiteNonSweetWine\", \"group\": \"guessed\"}, {\"target\": \"Red\", \"source\": \"PinotNoir\", \"group\": \"guessed\"}, {\"target\": \"White\", \"source\": \"PinotBlanc\", \"group\": \"guessed\"}, {\"target\": \"White\", \"source\": \"GermanWine\", \"group\": \"guessed\"}, {\"target\": \"Red\", \"source\": \"Beaujolais\", \"group\": \"guessed\"}, {\"target\": \"Red\", \"source\": \"Pauillac\", \"group\": \"guessed\"}, {\"target\": \"White\", \"source\": \"LateHarvest\", \"group\": \"guessed\"}, {\"target\": \"Red\", \"source\": \"RoseWine\", \"group\": \"guessed\"}, {\"target\": \"Red\", \"source\": \"RedTableWine\", \"group\": \"guessed\"}, {\"target\": \"White\", \"source\": \"Sancerre\", \"group\": \"guessed\"}, {\"target\": \"Red\", \"source\": \"Meritage\", \"group\": \"guessed\"}, {\"target\": \"White\", \"source\": \"SauvignonBlanc\", \"group\": \"guessed\"}, {\"target\": \"White\", \"source\": \"Meursault\", \"group\": \"guessed\"}, {\"target\": \"White\", \"source\": \"Sauternes\", \"group\": \"guessed\"}, {\"target\": \"Red\", \"source\": \"Merlot\", \"group\": \"guessed\"}, {\"target\": \"White\", \"source\": \"WhiteLoire\", \"group\": \"guessed\"}, {\"target\": \"Red\", \"source\": \"RedWine\", \"group\": \"guessed\"}, {\"target\": \"White\", \"source\": \"Burgundy\", \"group\": \"guessed\"}, {\"target\": \"White\", \"source\": \"DryWhiteWine\", \"group\": \"guessed\"}, {\"target\": \"Red\", \"source\": \"WhiteWine\", \"group\": \"guessed\"}, {\"target\": \"White\", \"source\": \"DryWine\", \"group\": \"guessed\"}, {\"target\": \"White\", \"source\": \"AlsatianWine\", \"group\": \"guessed\"}, {\"target\": \"White\", \"source\": \"Bordeaux\", \"group\": \"guessed\"}, {\"target\": \"Red\", \"source\": \"Port\", \"group\": \"guessed\"}, {\"target\": \"White\", \"source\": \"IceWine\", \"group\": \"guessed\"}, {\"target\": \"Red\", \"source\": \"AmericanWine\", \"group\": \"guessed\"}, {\"target\": \"White\", \"source\": \"Semillon\", \"group\": \"guessed\"}, {\"target\": \"Red\", \"source\": \"TableWine\", \"group\": \"guessed\"}, {\"target\": \"Red\", \"source\": \"Zinfandel\", \"group\": \"guessed\"}, {\"target\": \"White\", \"source\": \"DryRiesling\", \"group\": \"guessed\"}, {\"target\": \"Red\", \"source\": \"CaliforniaWine\", \"group\": \"guessed\"}, {\"target\": \"White\", \"source\": \"CotesDOr\", \"group\": \"guessed\"}], \"nodes\": [{\"id\": \"Tours\", \"group\": \"wine\"}, {\"id\": \"DessertWine\", \"group\": \"wine\"}, {\"id\": \"FrenchWine\", \"group\": \"wine\"}, {\"id\": \"Riesling\", \"group\": \"wine\"}, {\"id\": \"ItalianWine\", \"group\": \"wine\"}, {\"id\": \"SemillonOrSauvignonBlanc\", \"group\": \"wine\"}, {\"id\": \"RedBordeaux\", \"group\": \"wine\"}, {\"id\": \"StEmilion\", \"group\": \"wine\"}, {\"id\": \"Gamay\", \"group\": \"wine\"}, {\"id\": \"Anjou\", \"group\": \"wine\"}, {\"id\": \"SweetRiesling\", \"group\": \"wine\"}, {\"id\": \"EarlyHarvest\", \"group\": \"wine\"}, {\"id\": \"Chianti\", \"group\": \"wine\"}, {\"id\": \"Margaux\", \"group\": \"wine\"}, {\"id\": \"DryRedWine\", \"group\": \"wine\"}, {\"id\": \"Muscadet\", \"group\": \"wine\"}, {\"id\": \"Loire\", \"group\": \"wine\"}, {\"id\": \"Chardonnay\", \"group\": \"wine\"}, {\"id\": \"CabernetSauvignon\", \"group\": \"wine\"}, {\"id\": \"WhiteBordeaux\", \"group\": \"wine\"}, {\"id\": \"PetiteSyrah\", \"group\": \"wine\"}, {\"id\": \"TexasWine\", \"group\": \"wine\"}, {\"id\": \"CheninBlanc\", \"group\": \"wine\"}, {\"id\": \"CabernetFranc\", \"new\": true, \"group\": \"wine\"}, {\"id\": \"SweetWine\", \"new\": true, \"group\": \"wine\"}, {\"id\": \"RedBurgundy\", \"new\": true, \"group\": \"wine\"}, {\"id\": \"WhiteNonSweetWine\", \"new\": true, \"group\": \"wine\"}, {\"id\": \"PinotNoir\", \"new\": true, \"group\": \"wine\"}, {\"id\": \"PinotBlanc\", \"new\": true, \"group\": \"wine\"}, {\"id\": \"GermanWine\", \"new\": true, \"group\": \"wine\"}, {\"id\": \"Beaujolais\", \"new\": true, \"group\": \"wine\"}, {\"id\": \"Pauillac\", \"new\": true, \"group\": \"wine\"}, {\"id\": \"LateHarvest\", \"new\": true, \"group\": \"wine\"}, {\"id\": \"RoseWine\", \"new\": true, \"group\": \"wine\"}, {\"id\": \"RedTableWine\", \"new\": true, \"group\": \"wine\"}, {\"id\": \"Sancerre\", \"new\": true, \"group\": \"wine\"}, {\"id\": \"Meritage\", \"new\": true, \"group\": \"wine\"}, {\"id\": \"SauvignonBlanc\", \"new\": true, \"group\": \"wine\"}, {\"id\": \"Meursault\", \"new\": true, \"group\": \"wine\"}, {\"id\": \"Sauternes\", \"new\": true, \"group\": \"wine\"}, {\"id\": \"Merlot\", \"new\": true, \"group\": \"wine\"}, {\"id\": \"WhiteLoire\", \"new\": true, \"group\": \"wine\"}, {\"id\": \"RedWine\", \"new\": true, \"group\": \"wine\"}, {\"id\": \"Burgundy\", \"new\": true, \"group\": \"wine\"}, {\"id\": \"DryWhiteWine\", \"new\": true, \"group\": \"wine\"}, {\"id\": \"WhiteWine\", \"new\": true, \"group\": \"wine\"}, {\"id\": \"DryWine\", \"new\": true, \"group\": \"wine\"}, {\"id\": \"AlsatianWine\", \"new\": true, \"group\": \"wine\"}, {\"id\": \"Bordeaux\", \"new\": true, \"group\": \"wine\"}, {\"id\": \"Port\", \"new\": true, \"group\": \"wine\"}, {\"id\": \"IceWine\", \"new\": true, \"group\": \"wine\"}, {\"id\": \"AmericanWine\", \"new\": true, \"group\": \"wine\"}, {\"id\": \"Semillon\", \"new\": true, \"group\": \"wine\"}, {\"id\": \"TableWine\", \"new\": true, \"group\": \"wine\"}, {\"id\": \"Zinfandel\", \"new\": true, \"group\": \"wine\"}, {\"id\": \"DryRiesling\", \"new\": true, \"group\": \"wine\"}, {\"id\": \"CaliforniaWine\", \"new\": true, \"group\": \"wine\"}, {\"id\": \"CotesDOr\", \"new\": true, \"group\": \"wine\"}, {\"id\": \"Red\", \"group\": \"feature\"}, {\"id\": \"White\", \"group\": \"feature\"}]}'"
      ]
     },
     "execution_count": 311,
     "metadata": {},
     "output_type": "execute_result"
    }
   ],
   "source": [
    "json.dumps(graph)"
   ]
  }
 ],
 "metadata": {
  "kernelspec": {
   "display_name": "Python 3",
   "language": "python",
   "name": "python3"
  },
  "language_info": {
   "codemirror_mode": {
    "name": "ipython",
    "version": 3
   },
   "file_extension": ".py",
   "mimetype": "text/x-python",
   "name": "python",
   "nbconvert_exporter": "python",
   "pygments_lexer": "ipython3",
   "version": "3.5.2"
  }
 },
 "nbformat": 4,
 "nbformat_minor": 2
}
